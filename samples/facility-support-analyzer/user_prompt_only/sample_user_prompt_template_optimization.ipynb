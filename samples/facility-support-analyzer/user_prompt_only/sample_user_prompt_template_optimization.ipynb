{
 "cells": [
  {
   "cell_type": "markdown",
   "id": "6cc6e0e5-e71f-4eed-adbb-98546efded15",
   "metadata": {},
   "source": [
    "### Setup AWS Credentials"
   ]
  },
  {
   "cell_type": "code",
   "execution_count": null,
   "id": "8954cb65-5eb1-4e76-92bb-331be63f7e73",
   "metadata": {},
   "outputs": [],
   "source": [
    "import os\n",
    "# Setup your AWS Access Key and Secret Key as environment variables.\n",
    "os.environ[\"AWS_ACCESS_KEY_ID\"]\n",
    "os.environ[\"AWS_SECRET_ACCESS_KEY\"] "
   ]
  },
  {
   "cell_type": "code",
   "execution_count": 1,
   "id": "51fc0d85",
   "metadata": {},
   "outputs": [],
   "source": [
    "# Setup Nova Model\n",
    "NOVA_MODEL_ID = \"us.amazon.nova-pro-v1:0\""
   ]
  },
  {
   "cell_type": "markdown",
   "id": "74fc38c9-7b03-4c7b-824c-dac92201aa15",
   "metadata": {},
   "source": [
    "### Dataset Adapter\n",
    "\n",
    "Initialize the Dataset Adapter that takes the input_columns and output_columns. We use the JSONDatasetAdapter to read a `.jsonl` file and adapt it to the standardized format. We also use the adapter to create train and test sets for our use case."
   ]
  },
  {
   "cell_type": "code",
   "execution_count": 2,
   "id": "da047488-0220-4e49-b8d0-361c5afcdfb4",
   "metadata": {},
   "outputs": [],
   "source": [
    "from amzn_nova_prompt_optimizer.core.input_adapters.dataset_adapter import JSONDatasetAdapter\n",
    "\n",
    "input_columns = {\"input\"}\n",
    "output_columns = {\"answer\"}\n",
    "\n",
    "dataset_adapter = JSONDatasetAdapter(input_columns, output_columns)\n",
    "\n",
    "# Adapt\n",
    "dataset_adapter.adapt(\"../data/FacilitySupportAnalyzer.jsonl\")\n",
    "\n",
    "train_set, test_set = dataset_adapter.split(0.5)"
   ]
  },
  {
   "cell_type": "markdown",
   "id": "22305416-5912-429f-b47b-04592a0966da",
   "metadata": {},
   "source": [
    "### Prompt Adapter\n",
    "\n",
    "Initialize the Prompt Adapter for the Original Prompt. For this example, we use the FacilitySupportAnalyzer User Prompt in the `.txt` format. "
   ]
  },
  {
   "cell_type": "code",
   "execution_count": 3,
   "id": "621dc01d-6896-4a37-ad64-63f27c597f75",
   "metadata": {},
   "outputs": [
    {
     "name": "stderr",
     "output_type": "stream",
     "text": [
      "2025/07/02 20:45:28 INFO amzn_nova_prompt_optimizer.core.input_adapters.prompt_adapter: System Prompt not set, initializing as empty string...\n"
     ]
    },
    {
     "data": {
      "text/plain": [
       "<amzn_nova_prompt_optimizer.core.input_adapters.prompt_adapter.TextPromptAdapter at 0x7fa285314dd0>"
      ]
     },
     "execution_count": 3,
     "metadata": {},
     "output_type": "execute_result"
    }
   ],
   "source": [
    "from amzn_nova_prompt_optimizer.core.input_adapters.prompt_adapter import TextPromptAdapter\n",
    "\n",
    "prompt_variables = input_columns\n",
    "\n",
    "prompt_adapter = TextPromptAdapter()\n",
    "\n",
    "prompt_adapter.set_user_prompt(file_path=\"original_prompt/user_prompt_as_template.txt\", variables=prompt_variables)\n",
    "\n",
    "# Adapt\n",
    "prompt_adapter.adapt()"
   ]
  },
  {
   "cell_type": "markdown",
   "id": "8349aeee-4f9a-49e0-94cb-029f2c4fb05f",
   "metadata": {},
   "source": [
    "### Metric Adapter\n",
    "\n",
    "Initialize the Metric Adapter for evaluating this prompt for certain optimizers. For this example, we build a Custom Metric for the FacilitySupportAnalyzer Dataset. The metric adapter requires the use of the `apply` [For single row evaluation] or `batch_apply` [For evaluating the whole dataset together] function"
   ]
  },
  {
   "cell_type": "code",
   "execution_count": 4,
   "id": "f093a481-31a0-4871-99a0-670a60d67b1d",
   "metadata": {},
   "outputs": [],
   "source": [
    "from amzn_nova_prompt_optimizer.core.input_adapters.metric_adapter import MetricAdapter\n",
    "from typing import List, Any, Dict\n",
    "import re\n",
    "import json\n",
    "\n",
    "class FacilitySupportAnalyzerMetric(MetricAdapter):\n",
    "    def parse_json(self, input_string: str):\n",
    "        \"\"\"\n",
    "        Attempts to parse the given string as JSON. If direct parsing fails,\n",
    "        it tries to extract a JSON snippet from code blocks formatted as:\n",
    "            ```json\n",
    "            ... JSON content ...\n",
    "            ```\n",
    "        or any code block delimited by triple backticks and then parses that content.\n",
    "        \"\"\"\n",
    "        try:\n",
    "            return json.loads(input_string)\n",
    "        except json.JSONDecodeError as err:\n",
    "            error = err\n",
    "\n",
    "        patterns = [\n",
    "            re.compile(r\"```json\\s*(.*?)\\s*```\", re.DOTALL | re.IGNORECASE),\n",
    "            re.compile(r\"```(.*?)```\", re.DOTALL)\n",
    "        ]\n",
    "\n",
    "        for pattern in patterns:\n",
    "            match = pattern.search(input_string)\n",
    "            if match:\n",
    "                json_candidate = match.group(1).strip()\n",
    "                try:\n",
    "                    return json.loads(json_candidate)\n",
    "                except json.JSONDecodeError:\n",
    "                    continue\n",
    "\n",
    "        raise error\n",
    "\n",
    "    def _calculate_metrics(self, y_pred: Any, y_true: Any) -> Dict:\n",
    "        strict_json = False\n",
    "        result = {\n",
    "            \"is_valid_json\": False,\n",
    "            \"correct_categories\": 0.0,\n",
    "            \"correct_sentiment\": False,\n",
    "            \"correct_urgency\": False,\n",
    "        }\n",
    "\n",
    "        try:\n",
    "            y_true = y_true if isinstance(y_true, dict) else (json.loads(y_true) if strict_json else self.parse_json(y_true))\n",
    "            y_pred = y_pred if isinstance(y_pred, dict) else (json.loads(y_pred) if strict_json else self.parse_json(y_pred))\n",
    "        except json.JSONDecodeError:\n",
    "            result[\"total\"] = 0\n",
    "            return result  # Return result with is_valid_json = False\n",
    "        else:\n",
    "            if isinstance(y_pred, str):\n",
    "                result[\"total\"] = 0\n",
    "                return result  # Return result with is_valid_json = False\n",
    "            result[\"is_valid_json\"] = True\n",
    "\n",
    "            categories_true = y_true.get(\"categories\", {})\n",
    "            categories_pred = y_pred.get(\"categories\", {})\n",
    "\n",
    "            if isinstance(categories_true, dict) and isinstance(categories_pred, dict):\n",
    "                correct = sum(\n",
    "                    categories_true.get(k, False) == categories_pred.get(k, False)\n",
    "                    for k in categories_true\n",
    "                )\n",
    "                result[\"correct_categories\"] = correct / len(categories_true) if categories_true else 0.0\n",
    "            else:\n",
    "                result[\"correct_categories\"] = 0.0  # or raise an error if you prefer\n",
    "\n",
    "            result[\"correct_sentiment\"] = y_pred.get(\"sentiment\", \"\") == y_true.get(\"sentiment\", \"\")\n",
    "            result[\"correct_urgency\"] = y_pred.get(\"urgency\", \"\") == y_true.get(\"urgency\", \"\")\n",
    "\n",
    "        # Compute overall metric score\n",
    "        result[\"total\"] = sum(\n",
    "            float(result[k]) for k in [\"correct_categories\", \"correct_sentiment\", \"correct_urgency\"]\n",
    "        ) / 3.0\n",
    "\n",
    "        return result\n",
    "\n",
    "    def apply(self, y_pred: Any, y_true: Any):\n",
    "        return self._calculate_metrics(y_pred, y_true)\n",
    "\n",
    "    def batch_apply(self, y_preds: List[Any], y_trues: List[Any]):\n",
    "        evals = [self.apply(y_pred, y_true) for y_pred, y_true in zip(y_preds, y_trues)]\n",
    "        float_keys = [k for k, v in evals[0].items() if isinstance(v, (int, float, bool))]\n",
    "        return {k: sum(e[k] for e in evals) / len(evals) for k in float_keys}\n",
    "\n",
    "metric_adapter = FacilitySupportAnalyzerMetric()"
   ]
  },
  {
   "cell_type": "markdown",
   "id": "2852c904-42e8-46a2-ad9e-a2e88d8eba6a",
   "metadata": {},
   "source": [
    "### Inference Adapter\n",
    "Initialize the InferenceAdapter to choose the backend Inference. Currently, we only support BedrockInferenceAdapter."
   ]
  },
  {
   "cell_type": "code",
   "execution_count": 5,
   "id": "ea654ddd-59d0-495e-8e56-29fe0ed6dd7b",
   "metadata": {},
   "outputs": [],
   "source": [
    "from amzn_nova_prompt_optimizer.core.inference.adapter import BedrockInferenceAdapter\n",
    "\n",
    "inference_adapter = BedrockInferenceAdapter(region_name=\"us-east-1\")"
   ]
  },
  {
   "cell_type": "markdown",
   "id": "4bb20883-793c-4b38-8e2c-7f2d461cc2fb",
   "metadata": {},
   "source": [
    "### Evaluator\n",
    "\n",
    "The Evaluator can use the metric_adapter, prompt_adapter, and dataset_adapter to evaluate the prompt given the `model_id` to produce an evaluation score. The Evaluator internally uses the `InferenceRunner` to first generate inference results and then evaluate the output."
   ]
  },
  {
   "cell_type": "markdown",
   "id": "27bb5ac6",
   "metadata": {},
   "source": [
    "#### Base Model Evaluation"
   ]
  },
  {
   "cell_type": "code",
   "execution_count": 7,
   "id": "9f158430-ed74-470c-8657-2b49b57ae79f",
   "metadata": {},
   "outputs": [],
   "source": [
    "from amzn_nova_prompt_optimizer.core.evaluation import Evaluator\n",
    "\n",
    "evaluator = Evaluator(prompt_adapter, test_set, metric_adapter, inference_adapter)"
   ]
  },
  {
   "cell_type": "code",
   "execution_count": 8,
   "id": "33974a07-c556-4238-a39c-12601fa01e14",
   "metadata": {},
   "outputs": [
    {
     "name": "stderr",
     "output_type": "stream",
     "text": [
      "2025/07/02 04:35:03 INFO amzn_nova_prompt_optimizer.core.evaluation: Cache miss - Running new inference on Dataset\n",
      "Running inference: 100%|██████████████████████| 100/100 [00:45<00:00,  2.21it/s]\n",
      "2025/07/02 04:35:48 INFO amzn_nova_prompt_optimizer.core.evaluation: Running Batch Evaluation on Dataset, using `batch_apply` metric\n",
      "2025/07/02 04:35:48 INFO amzn_nova_prompt_optimizer.core.evaluation: Using cached inference results\n",
      "2025/07/02 04:35:48 INFO amzn_nova_prompt_optimizer.core.evaluation: Running Evaluation on Dataset, using `apply` metric\n"
     ]
    },
    {
     "name": "stdout",
     "output_type": "stream",
     "text": [
      "Original Prompt Evaluation Score = {'is_valid_json': 0.27, 'correct_categories': 0.251, 'correct_sentiment': 0.13, 'correct_urgency': 0.2, 'total': 0.19366666666666668}\n"
     ]
    }
   ],
   "source": [
    "original_prompt_score = evaluator.aggregate_score(model_id=NOVA_MODEL_ID)\n",
    "\n",
    "print(f\"Original Prompt Evaluation Score = {original_prompt_score}\")"
   ]
  },
  {
   "cell_type": "markdown",
   "id": "fab372d4-8ffc-4104-a5f6-30160a48f9f6",
   "metadata": {},
   "source": [
    "### Optimization Adapter\n",
    "\n",
    "We can now define the Optimization Functions. The Optimization function takes as input the Prompt Adapter and Optionally a Dataset Adapter, Inference Adapter, and Metric Adapter. The optimization function optimizes the prompt and returns a Prompt Adapter."
   ]
  },
  {
   "cell_type": "code",
   "execution_count": 6,
   "id": "8241fc92",
   "metadata": {},
   "outputs": [],
   "source": [
    "class FacilitySupportAnalyzerNovaMetric(FacilitySupportAnalyzerMetric):\n",
    "    def apply(self, y_pred: Any, y_true: Any):\n",
    "        # Requires to return a value and not a JSON payload\n",
    "        return self._calculate_metrics(y_pred, y_true)[\"total\"]\n",
    "        \n",
    "    def batch_apply(self, y_preds: List[Any], y_trues: List[Any]):\n",
    "        pass\n",
    "nova_metric_adapter = FacilitySupportAnalyzerNovaMetric()"
   ]
  },
  {
   "cell_type": "markdown",
   "id": "9e9f98bc",
   "metadata": {},
   "source": [
    "#### NovaPromptOptimizer\n",
    "\n",
    "NovaPromptOptimizer = Nova Meta Prompter + MIPROv2 with Nova Model Tips"
   ]
  },
  {
   "cell_type": "code",
   "execution_count": 7,
   "id": "d7c2d973",
   "metadata": {},
   "outputs": [
    {
     "name": "stderr",
     "output_type": "stream",
     "text": [
      "2025/07/02 20:45:38 INFO amzn_nova_prompt_optimizer.core.optimizers.nova_meta_prompter.nova_mp_optimizer: Optimizing prompt using Nova Meta Prompter\n",
      "2025/07/02 20:45:44 INFO amzn_nova_prompt_optimizer.core.optimizers.miprov2.miprov2_optimizer: Using us.amazon.nova-pro-v1:0 for Evaluation\n",
      "2025/07/02 20:45:44 INFO amzn_nova_prompt_optimizer.core.optimizers.miprov2.miprov2_optimizer: Using us.amazon.nova-premier-v1:0 for Prompting\n",
      "2025/07/02 20:45:44 INFO amzn_nova_prompt_optimizer.core.optimizers.miprov2.custom_adapters.custom_chat_adapter: Initializing CustomChatAdapter with enable_json_fallback=False\n",
      "2025/07/02 20:45:44 INFO amzn_nova_prompt_optimizer.core.optimizers.miprov2.miprov2_optimizer: Using Nova tips for MIPROv2 optimization\n",
      "2025/07/02 20:45:44 INFO dspy.teleprompt.mipro_optimizer_v2: \n",
      "==> STEP 1: BOOTSTRAP FEWSHOT EXAMPLES <==\n",
      "2025/07/02 20:45:44 INFO dspy.teleprompt.mipro_optimizer_v2: These will be used as few-shot example candidates for our program and for creating instructions.\n",
      "\n",
      "2025/07/02 20:45:44 INFO dspy.teleprompt.mipro_optimizer_v2: Bootstrapping N=20 sets of demonstrations...\n"
     ]
    },
    {
     "name": "stdout",
     "output_type": "stream",
     "text": [
      "Bootstrapping set 1/20\n",
      "Bootstrapping set 2/20\n",
      "Bootstrapping set 3/20\n"
     ]
    },
    {
     "name": "stderr",
     "output_type": "stream",
     "text": [
      "  8%|███████▋                                                                                        | 4/50 [00:06<01:09,  1.51s/it]\n"
     ]
    },
    {
     "name": "stdout",
     "output_type": "stream",
     "text": [
      "Bootstrapped 4 full traces after 4 examples for up to 1 rounds, amounting to 4 attempts.\n",
      "Bootstrapping set 4/20\n"
     ]
    },
    {
     "name": "stderr",
     "output_type": "stream",
     "text": [
      "  8%|███████▋                                                                                        | 4/50 [00:05<01:04,  1.41s/it]\n"
     ]
    },
    {
     "name": "stdout",
     "output_type": "stream",
     "text": [
      "Bootstrapped 4 full traces after 4 examples for up to 1 rounds, amounting to 4 attempts.\n",
      "Bootstrapping set 5/20\n"
     ]
    },
    {
     "name": "stderr",
     "output_type": "stream",
     "text": [
      "  6%|█████▊                                                                                          | 3/50 [00:04<01:06,  1.41s/it]\n"
     ]
    },
    {
     "name": "stdout",
     "output_type": "stream",
     "text": [
      "Bootstrapped 3 full traces after 3 examples for up to 1 rounds, amounting to 3 attempts.\n",
      "Bootstrapping set 6/20\n"
     ]
    },
    {
     "name": "stderr",
     "output_type": "stream",
     "text": [
      "  4%|███▊                                                                                            | 2/50 [00:03<01:18,  1.63s/it]\n"
     ]
    },
    {
     "name": "stdout",
     "output_type": "stream",
     "text": [
      "Bootstrapped 2 full traces after 2 examples for up to 1 rounds, amounting to 2 attempts.\n",
      "Bootstrapping set 7/20\n"
     ]
    },
    {
     "name": "stderr",
     "output_type": "stream",
     "text": [
      "  2%|█▉                                                                                              | 1/50 [00:01<01:05,  1.34s/it]\n"
     ]
    },
    {
     "name": "stdout",
     "output_type": "stream",
     "text": [
      "Bootstrapped 1 full traces after 1 examples for up to 1 rounds, amounting to 1 attempts.\n",
      "Bootstrapping set 8/20\n"
     ]
    },
    {
     "name": "stderr",
     "output_type": "stream",
     "text": [
      "  6%|█████▊                                                                                          | 3/50 [00:04<01:04,  1.37s/it]\n"
     ]
    },
    {
     "name": "stdout",
     "output_type": "stream",
     "text": [
      "Bootstrapped 3 full traces after 3 examples for up to 1 rounds, amounting to 3 attempts.\n",
      "Bootstrapping set 9/20\n"
     ]
    },
    {
     "name": "stderr",
     "output_type": "stream",
     "text": [
      "  8%|███████▋                                                                                        | 4/50 [00:05<01:02,  1.37s/it]\n"
     ]
    },
    {
     "name": "stdout",
     "output_type": "stream",
     "text": [
      "Bootstrapped 4 full traces after 4 examples for up to 1 rounds, amounting to 4 attempts.\n",
      "Bootstrapping set 10/20\n"
     ]
    },
    {
     "name": "stderr",
     "output_type": "stream",
     "text": [
      "  6%|█████▊                                                                                          | 3/50 [00:03<01:02,  1.33s/it]\n"
     ]
    },
    {
     "name": "stdout",
     "output_type": "stream",
     "text": [
      "Bootstrapped 3 full traces after 3 examples for up to 1 rounds, amounting to 3 attempts.\n",
      "Bootstrapping set 11/20\n"
     ]
    },
    {
     "name": "stderr",
     "output_type": "stream",
     "text": [
      "  2%|█▉                                                                                              | 1/50 [00:01<01:10,  1.45s/it]\n"
     ]
    },
    {
     "name": "stdout",
     "output_type": "stream",
     "text": [
      "Bootstrapped 1 full traces after 1 examples for up to 1 rounds, amounting to 1 attempts.\n",
      "Bootstrapping set 12/20\n"
     ]
    },
    {
     "name": "stderr",
     "output_type": "stream",
     "text": [
      "  6%|█████▊                                                                                          | 3/50 [00:04<01:08,  1.45s/it]\n"
     ]
    },
    {
     "name": "stdout",
     "output_type": "stream",
     "text": [
      "Bootstrapped 3 full traces after 3 examples for up to 1 rounds, amounting to 3 attempts.\n",
      "Bootstrapping set 13/20\n"
     ]
    },
    {
     "name": "stderr",
     "output_type": "stream",
     "text": [
      "  6%|█████▊                                                                                          | 3/50 [00:04<01:05,  1.39s/it]\n"
     ]
    },
    {
     "name": "stdout",
     "output_type": "stream",
     "text": [
      "Bootstrapped 3 full traces after 3 examples for up to 1 rounds, amounting to 3 attempts.\n",
      "Bootstrapping set 14/20\n"
     ]
    },
    {
     "name": "stderr",
     "output_type": "stream",
     "text": [
      "  4%|███▊                                                                                            | 2/50 [00:02<01:04,  1.34s/it]\n"
     ]
    },
    {
     "name": "stdout",
     "output_type": "stream",
     "text": [
      "Bootstrapped 2 full traces after 2 examples for up to 1 rounds, amounting to 2 attempts.\n",
      "Bootstrapping set 15/20\n"
     ]
    },
    {
     "name": "stderr",
     "output_type": "stream",
     "text": [
      "  4%|███▊                                                                                            | 2/50 [00:02<01:02,  1.30s/it]\n"
     ]
    },
    {
     "name": "stdout",
     "output_type": "stream",
     "text": [
      "Bootstrapped 2 full traces after 2 examples for up to 1 rounds, amounting to 2 attempts.\n",
      "Bootstrapping set 16/20\n"
     ]
    },
    {
     "name": "stderr",
     "output_type": "stream",
     "text": [
      "  8%|███████▋                                                                                        | 4/50 [00:05<01:06,  1.45s/it]\n"
     ]
    },
    {
     "name": "stdout",
     "output_type": "stream",
     "text": [
      "Bootstrapped 4 full traces after 4 examples for up to 1 rounds, amounting to 4 attempts.\n",
      "Bootstrapping set 17/20\n"
     ]
    },
    {
     "name": "stderr",
     "output_type": "stream",
     "text": [
      "  8%|███████▋                                                                                        | 4/50 [00:05<00:59,  1.30s/it]\n"
     ]
    },
    {
     "name": "stdout",
     "output_type": "stream",
     "text": [
      "Bootstrapped 4 full traces after 4 examples for up to 1 rounds, amounting to 4 attempts.\n",
      "Bootstrapping set 18/20\n"
     ]
    },
    {
     "name": "stderr",
     "output_type": "stream",
     "text": [
      "  6%|█████▊                                                                                          | 3/50 [00:03<00:59,  1.27s/it]\n"
     ]
    },
    {
     "name": "stdout",
     "output_type": "stream",
     "text": [
      "Bootstrapped 3 full traces after 3 examples for up to 1 rounds, amounting to 3 attempts.\n",
      "Bootstrapping set 19/20\n"
     ]
    },
    {
     "name": "stderr",
     "output_type": "stream",
     "text": [
      "  2%|█▉                                                                                              | 1/50 [00:01<01:07,  1.37s/it]\n"
     ]
    },
    {
     "name": "stdout",
     "output_type": "stream",
     "text": [
      "Bootstrapped 1 full traces after 1 examples for up to 1 rounds, amounting to 1 attempts.\n",
      "Bootstrapping set 20/20\n"
     ]
    },
    {
     "name": "stderr",
     "output_type": "stream",
     "text": [
      "  2%|█▉                                                                                              | 1/50 [00:01<01:14,  1.51s/it]\n",
      "2025/07/02 20:46:51 INFO amzn_nova_prompt_optimizer.core.optimizers.miprov2.miprov2_optimizer: Entering patched_propose_instructions, patching GroundedProposer with NovaGroundedProposer\n",
      "2025/07/02 20:46:51 INFO amzn_nova_prompt_optimizer.core.optimizers.miprov2.miprov2_optimizer: Patched GroundedProposer, current GroundedProposer class=<class 'amzn_nova_prompt_optimizer.core.optimizers.nova_prompt_optimizer.nova_grounded_proposer.NovaGroundedProposer'>\n",
      "2025/07/02 20:46:51 INFO dspy.teleprompt.mipro_optimizer_v2: \n",
      "==> STEP 2: PROPOSE INSTRUCTION CANDIDATES <==\n",
      "2025/07/02 20:46:51 INFO dspy.teleprompt.mipro_optimizer_v2: We will use the few-shot examples from the previous step, a generated dataset summary, a summary of the program code, and a randomly selected prompting tip to propose instructions.\n",
      "2025/07/02 20:46:51 INFO amzn_nova_prompt_optimizer.core.optimizers.nova_prompt_optimizer.nova_grounded_proposer: Initializing NovaGroundedProposer\n"
     ]
    },
    {
     "name": "stdout",
     "output_type": "stream",
     "text": [
      "Bootstrapped 1 full traces after 1 examples for up to 1 rounds, amounting to 1 attempts.\n"
     ]
    },
    {
     "name": "stderr",
     "output_type": "stream",
     "text": [
      "2025/07/02 20:47:10 INFO dspy.teleprompt.mipro_optimizer_v2: \n",
      "Proposing N=20 instructions...\n",
      "\n"
     ]
    },
    {
     "name": "stdout",
     "output_type": "stream",
     "text": [
      "[Nova] Selected tip: persona\n",
      "[Nova] Selected tip: persona\n",
      "[Nova] Selected tip: multi_turn\n",
      "[Nova] Selected tip: multi_turn\n",
      "[Nova] Selected tip: multi_turn\n",
      "[Nova] Selected tip: multi_turn\n",
      "[Nova] Selected tip: simple\n",
      "[Nova] Selected tip: high_stakes\n",
      "[Nova] Selected tip: high_stakes\n",
      "[Nova] Selected tip: format_control\n",
      "[Nova] Selected tip: creative\n",
      "[Nova] Selected tip: rules_based\n",
      "[Nova] Selected tip: none\n",
      "[Nova] Selected tip: simple\n",
      "[Nova] Selected tip: multi_turn\n",
      "[Nova] Selected tip: simple\n",
      "[Nova] Selected tip: high_stakes\n",
      "[Nova] Selected tip: structured_prompt\n",
      "[Nova] Selected tip: simple\n",
      "[Nova] Selected tip: multi_turn\n"
     ]
    },
    {
     "name": "stderr",
     "output_type": "stream",
     "text": [
      "2025/07/02 20:49:38 INFO dspy.teleprompt.mipro_optimizer_v2: Proposed Instructions for Predictor 0:\n",
      "\n",
      "2025/07/02 20:49:38 INFO dspy.teleprompt.mipro_optimizer_v2: 0: **Task:**\n",
      "Extract and return a JSON with specified keys and values based on the input.\n",
      "\n",
      "**Context:**\n",
      "- The JSON must include \"urgency\", \"sentiment\", and \"categories\".\n",
      "- \"urgency\" can be `high`, `medium`, or `low`.\n",
      "- \"sentiment\" can be `negative`, `neutral`, or `positive`.\n",
      "- \"categories\" is a dictionary with boolean values indicating if each category matches the input.\n",
      "\n",
      "**Instructions:**\n",
      "- MUST include all specified keys: \"urgency\", \"sentiment\", and \"categories\".\n",
      "- \"categories\" MUST include all listed support category tags with boolean values.\n",
      "- The JSON string MUST be valid and readable directly.\n",
      "- DO NOT enclose the JSON in ```json...```.\n",
      "- DO NOT include newlines or unnecessary whitespaces.\n",
      "\n",
      "**Response Format:**\n",
      "- The response MUST be a single-line JSON string.\n",
      "- MUST adhere to the specified format and include all required keys and values.\n",
      "\n",
      "2025/07/02 20:49:38 INFO dspy.teleprompt.mipro_optimizer_v2: 1: As a customer service analyst, your task is to process the given email and generate a JSON response that accurately reflects its content. Identify the urgency level (high, medium, low), sentiment (negative, neutral, positive), and relevant categories from the predefined list. Ensure the JSON is concise, valid, and includes all required keys with appropriate boolean values for categories.\n",
      "\n",
      "2025/07/02 20:49:38 INFO dspy.teleprompt.mipro_optimizer_v2: 2: Analyze the provided customer service email and generate a JSON object containing the urgency level (\"high\", \"medium\", \"low\"), sentiment (\"positive\", \"neutral\", \"negative\"), and a boolean dictionary for predefined categories. Ensure all categories are addressed, and the JSON is valid. For example, detect urgency cues like \"immediate\" or \"as soon as possible,\" sentiment from tone, and categorize based on keywords (e.g., \"safety\" for quality_and_safety_concerns).\n",
      "\n",
      "2025/07/02 20:49:38 INFO dspy.teleprompt.mipro_optimizer_v2: 3: Given an input email, analyze its content to determine the urgency, sentiment, and relevant categories. Return a JSON object with \"urgency\" (high/medium/low), \"sentiment\" (negative/neutral/positive), and a \"categories\" dictionary with boolean values for each predefined category. Ensure all keys are present and the JSON is valid.\n",
      "\n",
      "2025/07/02 20:49:38 INFO dspy.teleprompt.mipro_optimizer_v2: 4: Analyze the input email to extract relevant information and return a JSON object with the following keys: \"urgency\", \"sentiment\", and \"categories\". Determine the urgency level (`high`, `medium`, `low`) based on keywords like \"urgent\" or \"as soon as possible\". Assess sentiment (`negative`, `neutral`, `positive`) from the tone and language used. For \"categories\", assign boolean values to each predefined category based on the email's content. Ensure all keys are present and the JSON is valid.\n",
      "\n",
      "2025/07/02 20:49:38 INFO dspy.teleprompt.mipro_optimizer_v2: 5: Analyze the customer service inquiry to determine its urgency, sentiment, and relevant categories. Return a JSON object with \"urgency\" (high/medium/low), \"sentiment\" (negative/neutral/positive), and \"categories\" (boolean values for each predefined category). Ensure all keys are present, and the JSON is valid without extra formatting. If the inquiry mentions multiple topics, assign true to all relevant categories. For example, if both scheduling and safety are discussed, mark both categories as true.\n",
      "\n",
      "2025/07/02 20:49:38 INFO dspy.teleprompt.mipro_optimizer_v2: 6: Analyze the input text and classify it into a JSON object with \"urgency\", \"sentiment\", and \"categories\" keys. Ensure all categories are covered with boolean values, and the output is a valid JSON string without extra formatting.\n",
      "\n",
      "2025/07/02 20:49:38 INFO dspy.teleprompt.mipro_optimizer_v2: 7: **\n",
      "Analyze the provided customer service email and generate a precise JSON output containing urgency, sentiment, and category classifications. This output will directly impact service prioritization and resource allocation.\n",
      "\n",
      "**Requirements:**\n",
      "- Return a JSON object with \"urgency\" (high/medium/low), \"sentiment\" (positive/neutral/negative), and \"categories\" (boolean flags for all predefined topics).\n",
      "- Ensure 100% accuracy in classification, as errors could lead to delayed responses or misallocated resources.\n",
      "- Maintain strict JSON formatting without errors or extraneous characters.\n",
      "\n",
      "**Example:**\n",
      "Input: \"Subject: Urgent Safety Issue...[details]\"\n",
      "Output: {\"urgency\":\"high\",\"sentiment\":\"negative\",\"categories\":{\"safety\":true,\"maintenance\":false,...}}\n",
      "\n",
      "2025/07/02 20:49:38 INFO dspy.teleprompt.mipro_optimizer_v2: 8: **\n",
      "Analyze the customer service inquiry and generate a structured JSON summary that accurately reflects the email's urgency, sentiment, and relevant categories. This summary is crucial for prioritizing responses and ensuring customer satisfaction, especially in high-stakes environments like healthcare or emergency services.\n",
      "\n",
      "**Instructions:**\n",
      "- Return a JSON object with \"urgency\" (high/medium/low), \"sentiment\" (negative/neutral/positive), and \"categories\" (all predefined tags with boolean values).\n",
      "- Ensure 100% accuracy in classification, as misinterpretation could lead to delayed responses or unresolved critical issues.\n",
      "- Maintain strict JSON format without errors or extraneous characters.\n",
      "\n",
      "2025/07/02 20:49:38 INFO dspy.teleprompt.mipro_optimizer_v2: 9: Analyze the provided email to classify its content accurately. Generate a JSON object with three keys: \"urgency\" (values: \"high\", \"medium\", \"low\"), \"sentiment\" (values: \"positive\", \"neutral\", \"negative\"), and \"categories\" (a dictionary with boolean flags for: \"routine_maintenance_requests\", \"customer_feedback_and_complaints\", \"training_and_support_requests\", \"quality_and_safety_concerns\", \"sustainability_and_environmental_practices\", \"cleaning_services_scheduling\", \"specialized_cleaning_services\", \"emergency_repair_services\", \"facility_management_issues\", \"general_inquiries\"). Ensure no extraneous spaces or line breaks. For example, if an email requests urgent cleaning after renovations, set \"urgency\":\"high\", enable \"specialized_cleaning_services\":true, and leave unrelated categories false.\n",
      "\n",
      "2025/07/02 20:49:38 INFO dspy.teleprompt.mipro_optimizer_v2: 10: Given an email text, analyze its content to generate a JSON object with three main components: urgency, sentiment, and categories. For urgency, detect keywords or phrases indicating time sensitivity (e.g., \"ASAP\" for high, \"next week\" for medium). Sentiment should reflect the email's tone (e.g., complaints as negative, praise as positive). Categories require matching explicit mentions of service types (e.g., \"HVAC maintenance\" for routine_maintenance_requests) against a predefined list. Ensure boolean values in categories strictly correspond to presence/absence of each topic. The output must be a minified JSON string with exact field names and no formatting errors.\n",
      "\n",
      "2025/07/02 20:49:38 INFO dspy.teleprompt.mipro_optimizer_v2: 11: Analyze the provided email content to generate a JSON object containing \"urgency\", \"sentiment\", and \"categories\" fields. Ensure compliance with data privacy standards by omitting any personally identifiable information. The JSON must strictly follow the format: `{\"urgency\": \"[high/medium/low]\", \"sentiment\": \"[positive/neutral/negative]\", \"categories\": {\"[category_name]\": [true/false], ...}}`. Include all predefined categories with boolean flags, and maintain valid JSON syntax without extra whitespace.\n",
      "\n",
      "2025/07/02 20:49:38 INFO dspy.teleprompt.mipro_optimizer_v2: 12: Analyze the provided customer service email to extract structured information. Return a JSON object with \"urgency\" (high/medium/low), \"sentiment\" (positive/neutral/negative), and a \"categories\" dictionary containing boolean flags for: routine_maintenance_requests, customer_feedback_and_complaints, training_and_support_requests, quality_and_safety_concerns, sustainability_and_environmental_practices, cleaning_services_scheduling, specialized_cleaning_services, emergency_repair_services, facility_management_issues, and general_inquiries. Use contextual clues like problem severity (\"urgent\", \"ASAP\") for urgency, emotional tone for sentiment, and explicit mentions of services/issues for categories. Ensure no invalid JSON syntax and maintain single-line output.\n",
      "\n"
     ]
    },
    {
     "name": "stderr",
     "output_type": "stream",
     "text": [
      "2025/07/02 20:49:38 INFO dspy.teleprompt.mipro_optimizer_v2: 13: Analyze the input email and classify it into the appropriate categories. Determine the sentiment and urgency levels. Return a JSON object with \"categories\" (boolean for each category), \"sentiment\" (positive, neutral, negative), and \"urgency\" (high, medium, low). Ensure all keys are present and the JSON is valid.\n",
      "\n",
      "2025/07/02 20:49:38 INFO dspy.teleprompt.mipro_optimizer_v2: 14: Analyze the provided customer service inquiry and generate a JSON object containing \"urgency\" (high/medium/low), \"sentiment\" (positive/neutral/negative), and \"categories\" (boolean flags for each predefined category). Consider the email's tone, keywords, and context to accurately determine classifications. If ambiguity exists, default to neutral sentiment and medium urgency unless explicit urgency indicators are present. Ensure all category keys are included with appropriate boolean values.\n",
      "\n",
      "2025/07/02 20:49:38 INFO dspy.teleprompt.mipro_optimizer_v2: 15: Analyze the input email to classify the service request, determine sentiment, and assess urgency. Return a JSON object with \"urgency\" (high/medium/low), \"sentiment\" (positive/neutral/negative), and \"categories\" (boolean values for predefined tags). Ensure all keys are present and the JSON is valid.\n",
      "\n",
      "2025/07/02 20:49:38 INFO dspy.teleprompt.mipro_optimizer_v2: 16: **\n",
      "Analyze the customer service email to generate a precise JSON output containing urgency, sentiment, and category classifications. Errors in categorization could lead to delayed responses for urgent issues or misallocation of resources. Incorrect sentiment analysis might affect customer satisfaction tracking, while wrong urgency levels could compromise service quality.\n",
      "\n",
      "**Requirements:**\n",
      "- Return valid JSON with \"urgency\" (high/medium/low), \"sentiment\" (negative/neutral/positive), and \"categories\" (boolean values for all predefined tags).\n",
      "- Ensure 100% accuracy in category matching. For example, sustainability concerns must activate `\"sustainability_and_environmental_practices\":true` even if paired with complaints.\n",
      "- Maintain strict JSON formatting without extra whitespace or line breaks.\n",
      "\n",
      "**Example Failure Impact:**\n",
      "Misclassifying an emergency repair request as low urgency could result in facility downtime or safety hazards. Overlooking negative sentiment in feedback might hide systemic issues.\n",
      "\n",
      "2025/07/02 20:49:38 INFO dspy.teleprompt.mipro_optimizer_v2: 17: **\n",
      "Analyze the provided customer service email and generate a JSON output containing urgency, sentiment, and category classifications.\n",
      "\n",
      "**Context:**\n",
      "- The input is a customer support email requiring classification into predefined categories.\n",
      "- Use the email's content to determine if it matches any of the 10 support categories (e.g., emergency repairs, routine maintenance).\n",
      "- Assess sentiment (positive/neutral/negative) based on language cues.\n",
      "- Determine urgency (high/medium/low) from explicit mentions or implied context.\n",
      "\n",
      "**Instructions:**\n",
      "1. Read the email body and subject line carefully.\n",
      "2. Identify keywords/phrases related to urgency (e.g., \"urgent\", \"ASAP\") and sentiment (e.g., \"appreciate\", \"concerned\").\n",
      "3. Match content to categories like `emergency_repair_services` or `routine_maintenance_requests`.\n",
      "4. Return a JSON object with:\n",
      "   - \"urgency\": \"high\"/\"medium\"/\"low\"\n",
      "   - \"sentiment\": \"positive\"/\"neutral\"/\"negative\"\n",
      "   - \"categories\": Dictionary with 10 boolean-valued keys (e.g., {\"specialized_cleaning_services\":true})\n",
      "\n",
      "**Example Output:**\n",
      "{\"urgency\":\"medium\",\"sentiment\":\"neutral\",\"categories\":{\"routine_maintenance_requests\":false,\"specialized_cleaning_services\":true}}\n",
      "\n",
      "**Validation:**\n",
      "- Ensure all 10 categories are present in the JSON.\n",
      "- Maintain proper boolean capitalization (true/false).\n",
      "- No extraneous characters or formatting outside the JSON structure.\n",
      "\n",
      "2025/07/02 20:49:38 INFO dspy.teleprompt.mipro_optimizer_v2: 18: Analyze the input text to classify the urgency, sentiment, and relevant categories. Return a JSON object with \"urgency\" (high/medium/low), \"sentiment\" (negative/neutral/positive), and \"categories\" (boolean values for each predefined category). Ensure the output is a valid JSON string without extra formatting.\n",
      "\n",
      "2025/07/02 20:49:38 INFO dspy.teleprompt.mipro_optimizer_v2: 19: Analyze the provided customer service email and generate a JSON object with the following keys: \"urgency\" (high, medium, or low), \"sentiment\" (negative, neutral, or positive), and \"categories\" (a dictionary with boolean values for each category). Ensure all categories are included and accurately reflect the email's content. If the email's intent is unclear, prioritize categories based on explicit mentions and context clues.\n",
      "\n",
      "2025/07/02 20:49:38 INFO dspy.teleprompt.mipro_optimizer_v2: \n",
      "\n",
      "2025/07/02 20:49:38 INFO amzn_nova_prompt_optimizer.core.optimizers.miprov2.miprov2_optimizer: Restored GroundedProposer, current GroundedProposer class=<class 'dspy.propose.grounded_proposer.GroundedProposer'>\n",
      "2025/07/02 20:49:38 INFO amzn_nova_prompt_optimizer.core.optimizers.miprov2.custom_adapters.custom_chat_adapter: Initializing CustomChatAdapter with enable_json_fallback=False\n",
      "2025/07/02 20:49:38 INFO dspy.teleprompt.mipro_optimizer_v2: ==> STEP 3: FINDING OPTIMAL PROMPT PARAMETERS <==\n",
      "2025/07/02 20:49:38 INFO dspy.teleprompt.mipro_optimizer_v2: We will evaluate the program over a series of trials with different combinations of instructions and few-shot examples to find the optimal combination using Bayesian Optimization.\n",
      "\n",
      "2025/07/02 20:49:38 INFO dspy.teleprompt.mipro_optimizer_v2: == Trial 1 / 37 - Full Evaluation of Default Program ==\n"
     ]
    },
    {
     "name": "stdout",
     "output_type": "stream",
     "text": [
      "Average Metric: 35.17 / 50 (70.3%): 100%|███████████████████████████████████████████████████████████| 50/50 [00:36<00:00,  1.37it/s]"
     ]
    },
    {
     "name": "stderr",
     "output_type": "stream",
     "text": [
      "2025/07/02 20:50:15 INFO dspy.evaluate.evaluate: Average Metric: 35.166666666666664 / 50 (70.3%)\n",
      "2025/07/02 20:50:15 INFO dspy.teleprompt.mipro_optimizer_v2: Default program score: 70.33\n",
      "\n",
      "/local/home/shenov/workplace/NovaPromptOptimizer/src/NovaPromptOptimizer/samples/facility-support-analyzer/.venv/lib/python3.12/site-packages/optuna/_experimental.py:32: ExperimentalWarning: Argument ``multivariate`` is an experimental feature. The interface can change in the future.\n",
      "  warnings.warn(\n",
      "2025/07/02 20:50:15 INFO dspy.teleprompt.mipro_optimizer_v2: == Trial 2 / 37 - Minibatch ==\n"
     ]
    },
    {
     "name": "stdout",
     "output_type": "stream",
     "text": [
      "\n",
      "Average Metric: 25.50 / 35 (72.9%): 100%|███████████████████████████████████████████████████████████| 35/35 [00:22<00:00,  1.55it/s]"
     ]
    },
    {
     "name": "stderr",
     "output_type": "stream",
     "text": [
      "2025/07/02 20:50:37 INFO dspy.evaluate.evaluate: Average Metric: 25.5 / 35 (72.9%)\n",
      "2025/07/02 20:50:37 INFO dspy.teleprompt.mipro_optimizer_v2: Score: 72.86 on minibatch of size 35 with parameters ['Predictor 0: Instruction 12', 'Predictor 0: Few-Shot Set 6'].\n",
      "2025/07/02 20:50:37 INFO dspy.teleprompt.mipro_optimizer_v2: Minibatch scores so far: [72.86]\n",
      "2025/07/02 20:50:37 INFO dspy.teleprompt.mipro_optimizer_v2: Full eval scores so far: [70.33]\n",
      "2025/07/02 20:50:37 INFO dspy.teleprompt.mipro_optimizer_v2: Best full score so far: 70.33\n",
      "2025/07/02 20:50:37 INFO dspy.teleprompt.mipro_optimizer_v2: =========================================\n",
      "\n",
      "\n",
      "2025/07/02 20:50:37 INFO dspy.teleprompt.mipro_optimizer_v2: == Trial 3 / 37 - Minibatch ==\n"
     ]
    },
    {
     "name": "stdout",
     "output_type": "stream",
     "text": [
      "\n",
      "Average Metric: 25.17 / 35 (71.9%): 100%|███████████████████████████████████████████████████████████| 35/35 [00:22<00:00,  1.54it/s]"
     ]
    },
    {
     "name": "stderr",
     "output_type": "stream",
     "text": [
      "2025/07/02 20:51:00 INFO dspy.evaluate.evaluate: Average Metric: 25.166666666666664 / 35 (71.9%)\n",
      "2025/07/02 20:51:00 INFO dspy.teleprompt.mipro_optimizer_v2: Score: 71.9 on minibatch of size 35 with parameters ['Predictor 0: Instruction 8', 'Predictor 0: Few-Shot Set 4'].\n",
      "2025/07/02 20:51:00 INFO dspy.teleprompt.mipro_optimizer_v2: Minibatch scores so far: [72.86, 71.9]\n",
      "2025/07/02 20:51:00 INFO dspy.teleprompt.mipro_optimizer_v2: Full eval scores so far: [70.33]\n",
      "2025/07/02 20:51:00 INFO dspy.teleprompt.mipro_optimizer_v2: Best full score so far: 70.33\n",
      "2025/07/02 20:51:00 INFO dspy.teleprompt.mipro_optimizer_v2: =========================================\n",
      "\n",
      "\n",
      "2025/07/02 20:51:00 INFO dspy.teleprompt.mipro_optimizer_v2: == Trial 4 / 37 - Minibatch ==\n"
     ]
    },
    {
     "name": "stdout",
     "output_type": "stream",
     "text": [
      "\n",
      "Average Metric: 27.13 / 35 (77.5%): 100%|███████████████████████████████████████████████████████████| 35/35 [00:22<00:00,  1.57it/s]"
     ]
    },
    {
     "name": "stderr",
     "output_type": "stream",
     "text": [
      "2025/07/02 20:51:22 INFO dspy.evaluate.evaluate: Average Metric: 27.133333333333333 / 35 (77.5%)\n",
      "2025/07/02 20:51:22 INFO dspy.teleprompt.mipro_optimizer_v2: Score: 77.52 on minibatch of size 35 with parameters ['Predictor 0: Instruction 3', 'Predictor 0: Few-Shot Set 13'].\n",
      "2025/07/02 20:51:22 INFO dspy.teleprompt.mipro_optimizer_v2: Minibatch scores so far: [72.86, 71.9, 77.52]\n",
      "2025/07/02 20:51:22 INFO dspy.teleprompt.mipro_optimizer_v2: Full eval scores so far: [70.33]\n",
      "2025/07/02 20:51:22 INFO dspy.teleprompt.mipro_optimizer_v2: Best full score so far: 70.33\n",
      "2025/07/02 20:51:22 INFO dspy.teleprompt.mipro_optimizer_v2: =========================================\n",
      "\n",
      "\n",
      "2025/07/02 20:51:22 INFO dspy.teleprompt.mipro_optimizer_v2: == Trial 5 / 37 - Minibatch ==\n"
     ]
    },
    {
     "name": "stdout",
     "output_type": "stream",
     "text": [
      "\n",
      "Average Metric: 25.40 / 35 (72.6%): 100%|███████████████████████████████████████████████████████████| 35/35 [00:23<00:00,  1.49it/s]"
     ]
    },
    {
     "name": "stderr",
     "output_type": "stream",
     "text": [
      "2025/07/02 20:51:46 INFO dspy.evaluate.evaluate: Average Metric: 25.4 / 35 (72.6%)\n",
      "2025/07/02 20:51:46 INFO dspy.teleprompt.mipro_optimizer_v2: Score: 72.57 on minibatch of size 35 with parameters ['Predictor 0: Instruction 9', 'Predictor 0: Few-Shot Set 7'].\n",
      "2025/07/02 20:51:46 INFO dspy.teleprompt.mipro_optimizer_v2: Minibatch scores so far: [72.86, 71.9, 77.52, 72.57]\n",
      "2025/07/02 20:51:46 INFO dspy.teleprompt.mipro_optimizer_v2: Full eval scores so far: [70.33]\n",
      "2025/07/02 20:51:46 INFO dspy.teleprompt.mipro_optimizer_v2: Best full score so far: 70.33\n",
      "2025/07/02 20:51:46 INFO dspy.teleprompt.mipro_optimizer_v2: =========================================\n",
      "\n",
      "\n",
      "2025/07/02 20:51:46 INFO dspy.teleprompt.mipro_optimizer_v2: == Trial 6 / 37 - Minibatch ==\n"
     ]
    },
    {
     "name": "stdout",
     "output_type": "stream",
     "text": [
      "\n",
      "Average Metric: 25.07 / 35 (71.6%): 100%|███████████████████████████████████████████████████████████| 35/35 [00:23<00:00,  1.46it/s]"
     ]
    },
    {
     "name": "stderr",
     "output_type": "stream",
     "text": [
      "2025/07/02 20:52:10 INFO dspy.evaluate.evaluate: Average Metric: 25.066666666666666 / 35 (71.6%)\n",
      "2025/07/02 20:52:10 INFO dspy.teleprompt.mipro_optimizer_v2: Score: 71.62 on minibatch of size 35 with parameters ['Predictor 0: Instruction 0', 'Predictor 0: Few-Shot Set 9'].\n",
      "2025/07/02 20:52:10 INFO dspy.teleprompt.mipro_optimizer_v2: Minibatch scores so far: [72.86, 71.9, 77.52, 72.57, 71.62]\n",
      "2025/07/02 20:52:10 INFO dspy.teleprompt.mipro_optimizer_v2: Full eval scores so far: [70.33]\n",
      "2025/07/02 20:52:10 INFO dspy.teleprompt.mipro_optimizer_v2: Best full score so far: 70.33\n",
      "2025/07/02 20:52:10 INFO dspy.teleprompt.mipro_optimizer_v2: =========================================\n",
      "\n",
      "\n",
      "2025/07/02 20:52:10 INFO dspy.teleprompt.mipro_optimizer_v2: ===== Trial 7 / 37 - Full Evaluation =====\n",
      "2025/07/02 20:52:10 INFO dspy.teleprompt.mipro_optimizer_v2: Doing full eval on next top averaging program (Avg Score: 77.52) from minibatch trials...\n"
     ]
    },
    {
     "name": "stdout",
     "output_type": "stream",
     "text": [
      "\n",
      "Average Metric: 38.53 / 50 (77.1%): 100%|███████████████████████████████████████████████████████████| 50/50 [00:11<00:00,  4.45it/s]"
     ]
    },
    {
     "name": "stderr",
     "output_type": "stream",
     "text": [
      "2025/07/02 20:52:21 INFO dspy.evaluate.evaluate: Average Metric: 38.53333333333333 / 50 (77.1%)\n",
      "2025/07/02 20:52:21 INFO dspy.teleprompt.mipro_optimizer_v2: \u001b[92mNew best full eval score!\u001b[0m Score: 77.07\n",
      "2025/07/02 20:52:21 INFO dspy.teleprompt.mipro_optimizer_v2: Full eval scores so far: [70.33, 77.07]\n",
      "2025/07/02 20:52:21 INFO dspy.teleprompt.mipro_optimizer_v2: Best full score so far: 77.07\n",
      "2025/07/02 20:52:21 INFO dspy.teleprompt.mipro_optimizer_v2: =======================\n",
      "2025/07/02 20:52:21 INFO dspy.teleprompt.mipro_optimizer_v2: \n",
      "\n",
      "2025/07/02 20:52:21 INFO dspy.teleprompt.mipro_optimizer_v2: == Trial 8 / 37 - Minibatch ==\n"
     ]
    },
    {
     "name": "stdout",
     "output_type": "stream",
     "text": [
      "\n",
      "Average Metric: 25.93 / 35 (74.1%): 100%|███████████████████████████████████████████████████████████| 35/35 [00:24<00:00,  1.41it/s]"
     ]
    },
    {
     "name": "stderr",
     "output_type": "stream",
     "text": [
      "2025/07/02 20:52:46 INFO dspy.evaluate.evaluate: Average Metric: 25.933333333333334 / 35 (74.1%)\n",
      "2025/07/02 20:52:46 INFO dspy.teleprompt.mipro_optimizer_v2: Score: 74.1 on minibatch of size 35 with parameters ['Predictor 0: Instruction 10', 'Predictor 0: Few-Shot Set 15'].\n",
      "2025/07/02 20:52:46 INFO dspy.teleprompt.mipro_optimizer_v2: Minibatch scores so far: [72.86, 71.9, 77.52, 72.57, 71.62, 74.1]\n",
      "2025/07/02 20:52:46 INFO dspy.teleprompt.mipro_optimizer_v2: Full eval scores so far: [70.33, 77.07]\n",
      "2025/07/02 20:52:46 INFO dspy.teleprompt.mipro_optimizer_v2: Best full score so far: 77.07\n",
      "2025/07/02 20:52:46 INFO dspy.teleprompt.mipro_optimizer_v2: =========================================\n",
      "\n",
      "\n",
      "2025/07/02 20:52:46 INFO dspy.teleprompt.mipro_optimizer_v2: == Trial 9 / 37 - Minibatch ==\n"
     ]
    },
    {
     "name": "stdout",
     "output_type": "stream",
     "text": [
      "\n",
      "Average Metric: 26.70 / 35 (76.3%): 100%|███████████████████████████████████████████████████████████| 35/35 [00:30<00:00,  1.14it/s]"
     ]
    },
    {
     "name": "stderr",
     "output_type": "stream",
     "text": [
      "2025/07/02 20:53:17 INFO dspy.evaluate.evaluate: Average Metric: 26.7 / 35 (76.3%)\n",
      "2025/07/02 20:53:17 INFO dspy.teleprompt.mipro_optimizer_v2: Score: 76.29 on minibatch of size 35 with parameters ['Predictor 0: Instruction 6', 'Predictor 0: Few-Shot Set 17'].\n",
      "2025/07/02 20:53:17 INFO dspy.teleprompt.mipro_optimizer_v2: Minibatch scores so far: [72.86, 71.9, 77.52, 72.57, 71.62, 74.1, 76.29]\n",
      "2025/07/02 20:53:17 INFO dspy.teleprompt.mipro_optimizer_v2: Full eval scores so far: [70.33, 77.07]\n",
      "2025/07/02 20:53:17 INFO dspy.teleprompt.mipro_optimizer_v2: Best full score so far: 77.07\n",
      "2025/07/02 20:53:17 INFO dspy.teleprompt.mipro_optimizer_v2: =========================================\n",
      "\n",
      "\n",
      "2025/07/02 20:53:17 INFO dspy.teleprompt.mipro_optimizer_v2: == Trial 10 / 37 - Minibatch ==\n"
     ]
    },
    {
     "name": "stdout",
     "output_type": "stream",
     "text": [
      "\n",
      "Average Metric: 24.30 / 35 (69.4%): 100%|███████████████████████████████████████████████████████████| 35/35 [00:23<00:00,  1.52it/s]"
     ]
    },
    {
     "name": "stderr",
     "output_type": "stream",
     "text": [
      "2025/07/02 20:53:40 INFO dspy.evaluate.evaluate: Average Metric: 24.3 / 35 (69.4%)\n",
      "2025/07/02 20:53:40 INFO dspy.teleprompt.mipro_optimizer_v2: Score: 69.43 on minibatch of size 35 with parameters ['Predictor 0: Instruction 18', 'Predictor 0: Few-Shot Set 9'].\n",
      "2025/07/02 20:53:40 INFO dspy.teleprompt.mipro_optimizer_v2: Minibatch scores so far: [72.86, 71.9, 77.52, 72.57, 71.62, 74.1, 76.29, 69.43]\n",
      "2025/07/02 20:53:40 INFO dspy.teleprompt.mipro_optimizer_v2: Full eval scores so far: [70.33, 77.07]\n",
      "2025/07/02 20:53:40 INFO dspy.teleprompt.mipro_optimizer_v2: Best full score so far: 77.07\n",
      "2025/07/02 20:53:40 INFO dspy.teleprompt.mipro_optimizer_v2: ==========================================\n",
      "\n",
      "\n",
      "2025/07/02 20:53:40 INFO dspy.teleprompt.mipro_optimizer_v2: == Trial 11 / 37 - Minibatch ==\n"
     ]
    },
    {
     "name": "stdout",
     "output_type": "stream",
     "text": [
      "\n",
      "Average Metric: 25.20 / 35 (72.0%): 100%|███████████████████████████████████████████████████████████| 35/35 [00:23<00:00,  1.46it/s]"
     ]
    },
    {
     "name": "stderr",
     "output_type": "stream",
     "text": [
      "2025/07/02 20:54:04 INFO dspy.evaluate.evaluate: Average Metric: 25.2 / 35 (72.0%)\n",
      "2025/07/02 20:54:04 INFO dspy.teleprompt.mipro_optimizer_v2: Score: 72.0 on minibatch of size 35 with parameters ['Predictor 0: Instruction 7', 'Predictor 0: Few-Shot Set 13'].\n",
      "2025/07/02 20:54:04 INFO dspy.teleprompt.mipro_optimizer_v2: Minibatch scores so far: [72.86, 71.9, 77.52, 72.57, 71.62, 74.1, 76.29, 69.43, 72.0]\n",
      "2025/07/02 20:54:04 INFO dspy.teleprompt.mipro_optimizer_v2: Full eval scores so far: [70.33, 77.07]\n",
      "2025/07/02 20:54:04 INFO dspy.teleprompt.mipro_optimizer_v2: Best full score so far: 77.07\n",
      "2025/07/02 20:54:04 INFO dspy.teleprompt.mipro_optimizer_v2: ==========================================\n",
      "\n",
      "\n",
      "2025/07/02 20:54:04 INFO dspy.teleprompt.mipro_optimizer_v2: == Trial 12 / 37 - Minibatch ==\n"
     ]
    },
    {
     "name": "stdout",
     "output_type": "stream",
     "text": [
      "\n",
      "Average Metric: 26.53 / 35 (75.8%): 100%|███████████████████████████████████████████████████████████| 35/35 [00:23<00:00,  1.46it/s]"
     ]
    },
    {
     "name": "stderr",
     "output_type": "stream",
     "text": [
      "2025/07/02 20:54:28 INFO dspy.evaluate.evaluate: Average Metric: 26.53333333333333 / 35 (75.8%)\n",
      "2025/07/02 20:54:28 INFO dspy.teleprompt.mipro_optimizer_v2: Score: 75.81 on minibatch of size 35 with parameters ['Predictor 0: Instruction 3', 'Predictor 0: Few-Shot Set 5'].\n",
      "2025/07/02 20:54:28 INFO dspy.teleprompt.mipro_optimizer_v2: Minibatch scores so far: [72.86, 71.9, 77.52, 72.57, 71.62, 74.1, 76.29, 69.43, 72.0, 75.81]\n",
      "2025/07/02 20:54:28 INFO dspy.teleprompt.mipro_optimizer_v2: Full eval scores so far: [70.33, 77.07]\n",
      "2025/07/02 20:54:28 INFO dspy.teleprompt.mipro_optimizer_v2: Best full score so far: 77.07\n",
      "2025/07/02 20:54:28 INFO dspy.teleprompt.mipro_optimizer_v2: ==========================================\n",
      "\n",
      "\n",
      "2025/07/02 20:54:28 INFO dspy.teleprompt.mipro_optimizer_v2: ===== Trial 13 / 37 - Full Evaluation =====\n",
      "2025/07/02 20:54:28 INFO dspy.teleprompt.mipro_optimizer_v2: Doing full eval on next top averaging program (Avg Score: 76.29) from minibatch trials...\n"
     ]
    },
    {
     "name": "stdout",
     "output_type": "stream",
     "text": [
      "\n",
      "Average Metric: 40.03 / 50 (80.1%): 100%|███████████████████████████████████████████████████████████| 50/50 [00:11<00:00,  4.33it/s]"
     ]
    },
    {
     "name": "stderr",
     "output_type": "stream",
     "text": [
      "2025/07/02 20:54:39 INFO dspy.evaluate.evaluate: Average Metric: 40.03333333333333 / 50 (80.1%)\n",
      "2025/07/02 20:54:39 INFO dspy.teleprompt.mipro_optimizer_v2: \u001b[92mNew best full eval score!\u001b[0m Score: 80.07\n",
      "2025/07/02 20:54:39 INFO dspy.teleprompt.mipro_optimizer_v2: Full eval scores so far: [70.33, 77.07, 80.07]\n",
      "2025/07/02 20:54:39 INFO dspy.teleprompt.mipro_optimizer_v2: Best full score so far: 80.07\n",
      "2025/07/02 20:54:39 INFO dspy.teleprompt.mipro_optimizer_v2: =======================\n",
      "2025/07/02 20:54:39 INFO dspy.teleprompt.mipro_optimizer_v2: \n",
      "\n",
      "2025/07/02 20:54:39 INFO dspy.teleprompt.mipro_optimizer_v2: == Trial 14 / 37 - Minibatch ==\n"
     ]
    },
    {
     "name": "stdout",
     "output_type": "stream",
     "text": [
      "\n",
      "Average Metric: 27.03 / 35 (77.2%): 100%|███████████████████████████████████████████████████████████| 35/35 [00:23<00:00,  1.50it/s]"
     ]
    },
    {
     "name": "stderr",
     "output_type": "stream",
     "text": [
      "2025/07/02 20:55:03 INFO dspy.evaluate.evaluate: Average Metric: 27.03333333333333 / 35 (77.2%)\n",
      "2025/07/02 20:55:03 INFO dspy.teleprompt.mipro_optimizer_v2: Score: 77.24 on minibatch of size 35 with parameters ['Predictor 0: Instruction 13', 'Predictor 0: Few-Shot Set 13'].\n",
      "2025/07/02 20:55:03 INFO dspy.teleprompt.mipro_optimizer_v2: Minibatch scores so far: [72.86, 71.9, 77.52, 72.57, 71.62, 74.1, 76.29, 69.43, 72.0, 75.81, 77.24]\n",
      "2025/07/02 20:55:03 INFO dspy.teleprompt.mipro_optimizer_v2: Full eval scores so far: [70.33, 77.07, 80.07]\n",
      "2025/07/02 20:55:03 INFO dspy.teleprompt.mipro_optimizer_v2: Best full score so far: 80.07\n",
      "2025/07/02 20:55:03 INFO dspy.teleprompt.mipro_optimizer_v2: ==========================================\n",
      "\n",
      "\n",
      "2025/07/02 20:55:03 INFO dspy.teleprompt.mipro_optimizer_v2: == Trial 15 / 37 - Minibatch ==\n"
     ]
    },
    {
     "name": "stdout",
     "output_type": "stream",
     "text": [
      "\n",
      "Average Metric: 26.90 / 35 (76.9%): 100%|███████████████████████████████████████████████████████████| 35/35 [00:23<00:00,  1.50it/s]"
     ]
    },
    {
     "name": "stderr",
     "output_type": "stream",
     "text": [
      "2025/07/02 20:55:26 INFO dspy.evaluate.evaluate: Average Metric: 26.9 / 35 (76.9%)\n",
      "2025/07/02 20:55:26 INFO dspy.teleprompt.mipro_optimizer_v2: Score: 76.86 on minibatch of size 35 with parameters ['Predictor 0: Instruction 6', 'Predictor 0: Few-Shot Set 1'].\n",
      "2025/07/02 20:55:26 INFO dspy.teleprompt.mipro_optimizer_v2: Minibatch scores so far: [72.86, 71.9, 77.52, 72.57, 71.62, 74.1, 76.29, 69.43, 72.0, 75.81, 77.24, 76.86]\n",
      "2025/07/02 20:55:26 INFO dspy.teleprompt.mipro_optimizer_v2: Full eval scores so far: [70.33, 77.07, 80.07]\n",
      "2025/07/02 20:55:26 INFO dspy.teleprompt.mipro_optimizer_v2: Best full score so far: 80.07\n",
      "2025/07/02 20:55:26 INFO dspy.teleprompt.mipro_optimizer_v2: ==========================================\n",
      "\n",
      "\n",
      "2025/07/02 20:55:26 INFO dspy.teleprompt.mipro_optimizer_v2: == Trial 16 / 37 - Minibatch ==\n"
     ]
    },
    {
     "name": "stdout",
     "output_type": "stream",
     "text": [
      "\n",
      "Average Metric: 26.70 / 35 (76.3%): 100%|███████████████████████████████████████████████████████████| 35/35 [00:28<00:00,  1.22it/s]"
     ]
    },
    {
     "name": "stderr",
     "output_type": "stream",
     "text": [
      "2025/07/02 20:55:55 INFO dspy.evaluate.evaluate: Average Metric: 26.7 / 35 (76.3%)\n",
      "2025/07/02 20:55:55 INFO dspy.teleprompt.mipro_optimizer_v2: Score: 76.29 on minibatch of size 35 with parameters ['Predictor 0: Instruction 2', 'Predictor 0: Few-Shot Set 6'].\n",
      "2025/07/02 20:55:55 INFO dspy.teleprompt.mipro_optimizer_v2: Minibatch scores so far: [72.86, 71.9, 77.52, 72.57, 71.62, 74.1, 76.29, 69.43, 72.0, 75.81, 77.24, 76.86, 76.29]\n",
      "2025/07/02 20:55:55 INFO dspy.teleprompt.mipro_optimizer_v2: Full eval scores so far: [70.33, 77.07, 80.07]\n",
      "2025/07/02 20:55:55 INFO dspy.teleprompt.mipro_optimizer_v2: Best full score so far: 80.07\n",
      "2025/07/02 20:55:55 INFO dspy.teleprompt.mipro_optimizer_v2: ==========================================\n",
      "\n",
      "\n",
      "2025/07/02 20:55:55 INFO dspy.teleprompt.mipro_optimizer_v2: == Trial 17 / 37 - Minibatch ==\n"
     ]
    },
    {
     "name": "stdout",
     "output_type": "stream",
     "text": [
      "\n",
      "Average Metric: 27.73 / 35 (79.2%): 100%|█████████████████████████████████████████████████████████| 35/35 [00:00<00:00, 1377.01it/s]"
     ]
    },
    {
     "name": "stderr",
     "output_type": "stream",
     "text": [
      "2025/07/02 20:55:55 INFO dspy.evaluate.evaluate: Average Metric: 27.733333333333334 / 35 (79.2%)\n",
      "2025/07/02 20:55:55 INFO dspy.teleprompt.mipro_optimizer_v2: Score: 79.24 on minibatch of size 35 with parameters ['Predictor 0: Instruction 3', 'Predictor 0: Few-Shot Set 13'].\n",
      "2025/07/02 20:55:55 INFO dspy.teleprompt.mipro_optimizer_v2: Minibatch scores so far: [72.86, 71.9, 77.52, 72.57, 71.62, 74.1, 76.29, 69.43, 72.0, 75.81, 77.24, 76.86, 76.29, 79.24]\n",
      "2025/07/02 20:55:55 INFO dspy.teleprompt.mipro_optimizer_v2: Full eval scores so far: [70.33, 77.07, 80.07]\n",
      "2025/07/02 20:55:55 INFO dspy.teleprompt.mipro_optimizer_v2: Best full score so far: 80.07\n",
      "2025/07/02 20:55:55 INFO dspy.teleprompt.mipro_optimizer_v2: ==========================================\n",
      "\n",
      "\n",
      "2025/07/02 20:55:55 INFO dspy.teleprompt.mipro_optimizer_v2: == Trial 18 / 37 - Minibatch ==\n"
     ]
    },
    {
     "name": "stdout",
     "output_type": "stream",
     "text": [
      "\n",
      "Average Metric: 25.57 / 35 (73.0%): 100%|███████████████████████████████████████████████████████████| 35/35 [00:25<00:00,  1.39it/s]"
     ]
    },
    {
     "name": "stderr",
     "output_type": "stream",
     "text": [
      "2025/07/02 20:56:20 INFO dspy.evaluate.evaluate: Average Metric: 25.566666666666666 / 35 (73.0%)\n",
      "2025/07/02 20:56:20 INFO dspy.teleprompt.mipro_optimizer_v2: Score: 73.05 on minibatch of size 35 with parameters ['Predictor 0: Instruction 6', 'Predictor 0: Few-Shot Set 6'].\n",
      "2025/07/02 20:56:20 INFO dspy.teleprompt.mipro_optimizer_v2: Minibatch scores so far: [72.86, 71.9, 77.52, 72.57, 71.62, 74.1, 76.29, 69.43, 72.0, 75.81, 77.24, 76.86, 76.29, 79.24, 73.05]\n",
      "2025/07/02 20:56:20 INFO dspy.teleprompt.mipro_optimizer_v2: Full eval scores so far: [70.33, 77.07, 80.07]\n",
      "2025/07/02 20:56:20 INFO dspy.teleprompt.mipro_optimizer_v2: Best full score so far: 80.07\n",
      "2025/07/02 20:56:20 INFO dspy.teleprompt.mipro_optimizer_v2: ==========================================\n",
      "\n",
      "\n",
      "2025/07/02 20:56:20 INFO dspy.teleprompt.mipro_optimizer_v2: ===== Trial 19 / 37 - Full Evaluation =====\n",
      "2025/07/02 20:56:20 INFO dspy.teleprompt.mipro_optimizer_v2: Doing full eval on next top averaging program (Avg Score: 77.24) from minibatch trials...\n"
     ]
    },
    {
     "name": "stdout",
     "output_type": "stream",
     "text": [
      "\n",
      "Average Metric: 38.57 / 50 (77.1%): 100%|███████████████████████████████████████████████████████████| 50/50 [00:10<00:00,  4.97it/s]"
     ]
    },
    {
     "name": "stderr",
     "output_type": "stream",
     "text": [
      "2025/07/02 20:56:30 INFO dspy.evaluate.evaluate: Average Metric: 38.56666666666666 / 50 (77.1%)\n",
      "2025/07/02 20:56:30 INFO dspy.teleprompt.mipro_optimizer_v2: Full eval scores so far: [70.33, 77.07, 80.07, 77.13]\n",
      "2025/07/02 20:56:30 INFO dspy.teleprompt.mipro_optimizer_v2: Best full score so far: 80.07\n",
      "2025/07/02 20:56:30 INFO dspy.teleprompt.mipro_optimizer_v2: =======================\n",
      "2025/07/02 20:56:30 INFO dspy.teleprompt.mipro_optimizer_v2: \n",
      "\n",
      "2025/07/02 20:56:30 INFO dspy.teleprompt.mipro_optimizer_v2: == Trial 20 / 37 - Minibatch ==\n"
     ]
    },
    {
     "name": "stdout",
     "output_type": "stream",
     "text": [
      "\n",
      "Average Metric: 27.60 / 35 (78.9%): 100%|███████████████████████████████████████████████████████████| 35/35 [00:23<00:00,  1.47it/s]"
     ]
    },
    {
     "name": "stderr",
     "output_type": "stream",
     "text": [
      "2025/07/02 20:56:54 INFO dspy.evaluate.evaluate: Average Metric: 27.599999999999998 / 35 (78.9%)\n",
      "2025/07/02 20:56:54 INFO dspy.teleprompt.mipro_optimizer_v2: Score: 78.86 on minibatch of size 35 with parameters ['Predictor 0: Instruction 17', 'Predictor 0: Few-Shot Set 1'].\n",
      "2025/07/02 20:56:54 INFO dspy.teleprompt.mipro_optimizer_v2: Minibatch scores so far: [72.86, 71.9, 77.52, 72.57, 71.62, 74.1, 76.29, 69.43, 72.0, 75.81, 77.24, 76.86, 76.29, 79.24, 73.05, 78.86]\n",
      "2025/07/02 20:56:54 INFO dspy.teleprompt.mipro_optimizer_v2: Full eval scores so far: [70.33, 77.07, 80.07, 77.13]\n",
      "2025/07/02 20:56:54 INFO dspy.teleprompt.mipro_optimizer_v2: Best full score so far: 80.07\n",
      "2025/07/02 20:56:54 INFO dspy.teleprompt.mipro_optimizer_v2: ==========================================\n",
      "\n",
      "\n",
      "2025/07/02 20:56:54 INFO dspy.teleprompt.mipro_optimizer_v2: == Trial 21 / 37 - Minibatch ==\n"
     ]
    },
    {
     "name": "stdout",
     "output_type": "stream",
     "text": [
      "\n",
      "Average Metric: 25.57 / 35 (73.0%): 100%|███████████████████████████████████████████████████████████| 35/35 [00:23<00:00,  1.49it/s]"
     ]
    },
    {
     "name": "stderr",
     "output_type": "stream",
     "text": [
      "2025/07/02 20:57:17 INFO dspy.evaluate.evaluate: Average Metric: 25.566666666666666 / 35 (73.0%)\n",
      "2025/07/02 20:57:17 INFO dspy.teleprompt.mipro_optimizer_v2: Score: 73.05 on minibatch of size 35 with parameters ['Predictor 0: Instruction 16', 'Predictor 0: Few-Shot Set 18'].\n",
      "2025/07/02 20:57:17 INFO dspy.teleprompt.mipro_optimizer_v2: Minibatch scores so far: [72.86, 71.9, 77.52, 72.57, 71.62, 74.1, 76.29, 69.43, 72.0, 75.81, 77.24, 76.86, 76.29, 79.24, 73.05, 78.86, 73.05]\n",
      "2025/07/02 20:57:17 INFO dspy.teleprompt.mipro_optimizer_v2: Full eval scores so far: [70.33, 77.07, 80.07, 77.13]\n",
      "2025/07/02 20:57:17 INFO dspy.teleprompt.mipro_optimizer_v2: Best full score so far: 80.07\n",
      "2025/07/02 20:57:17 INFO dspy.teleprompt.mipro_optimizer_v2: ==========================================\n",
      "\n",
      "\n",
      "2025/07/02 20:57:17 INFO dspy.teleprompt.mipro_optimizer_v2: == Trial 22 / 37 - Minibatch ==\n"
     ]
    },
    {
     "name": "stdout",
     "output_type": "stream",
     "text": [
      "\n",
      "Average Metric: 27.70 / 35 (79.1%): 100%|███████████████████████████████████████████████████████████| 35/35 [00:22<00:00,  1.59it/s]"
     ]
    },
    {
     "name": "stderr",
     "output_type": "stream",
     "text": [
      "2025/07/02 20:57:39 INFO dspy.evaluate.evaluate: Average Metric: 27.7 / 35 (79.1%)\n",
      "2025/07/02 20:57:39 INFO dspy.teleprompt.mipro_optimizer_v2: Score: 79.14 on minibatch of size 35 with parameters ['Predictor 0: Instruction 4', 'Predictor 0: Few-Shot Set 1'].\n",
      "2025/07/02 20:57:39 INFO dspy.teleprompt.mipro_optimizer_v2: Minibatch scores so far: [72.86, 71.9, 77.52, 72.57, 71.62, 74.1, 76.29, 69.43, 72.0, 75.81, 77.24, 76.86, 76.29, 79.24, 73.05, 78.86, 73.05, 79.14]\n",
      "2025/07/02 20:57:39 INFO dspy.teleprompt.mipro_optimizer_v2: Full eval scores so far: [70.33, 77.07, 80.07, 77.13]\n",
      "2025/07/02 20:57:39 INFO dspy.teleprompt.mipro_optimizer_v2: Best full score so far: 80.07\n",
      "2025/07/02 20:57:39 INFO dspy.teleprompt.mipro_optimizer_v2: ==========================================\n",
      "\n",
      "\n",
      "2025/07/02 20:57:39 INFO dspy.teleprompt.mipro_optimizer_v2: == Trial 23 / 37 - Minibatch ==\n"
     ]
    },
    {
     "name": "stdout",
     "output_type": "stream",
     "text": [
      "\n",
      "Average Metric: 25.20 / 35 (72.0%): 100%|███████████████████████████████████████████████████████████| 35/35 [00:21<00:00,  1.61it/s]"
     ]
    },
    {
     "name": "stderr",
     "output_type": "stream",
     "text": [
      "2025/07/02 20:58:01 INFO dspy.evaluate.evaluate: Average Metric: 25.2 / 35 (72.0%)\n",
      "2025/07/02 20:58:01 INFO dspy.teleprompt.mipro_optimizer_v2: Score: 72.0 on minibatch of size 35 with parameters ['Predictor 0: Instruction 4', 'Predictor 0: Few-Shot Set 4'].\n",
      "2025/07/02 20:58:01 INFO dspy.teleprompt.mipro_optimizer_v2: Minibatch scores so far: [72.86, 71.9, 77.52, 72.57, 71.62, 74.1, 76.29, 69.43, 72.0, 75.81, 77.24, 76.86, 76.29, 79.24, 73.05, 78.86, 73.05, 79.14, 72.0]\n",
      "2025/07/02 20:58:01 INFO dspy.teleprompt.mipro_optimizer_v2: Full eval scores so far: [70.33, 77.07, 80.07, 77.13]\n",
      "2025/07/02 20:58:01 INFO dspy.teleprompt.mipro_optimizer_v2: Best full score so far: 80.07\n",
      "2025/07/02 20:58:01 INFO dspy.teleprompt.mipro_optimizer_v2: ==========================================\n",
      "\n",
      "\n",
      "2025/07/02 20:58:01 INFO dspy.teleprompt.mipro_optimizer_v2: == Trial 24 / 37 - Minibatch ==\n"
     ]
    },
    {
     "name": "stdout",
     "output_type": "stream",
     "text": [
      "\n",
      "Average Metric: 25.50 / 35 (72.9%): 100%|███████████████████████████████████████████████████████████| 35/35 [00:24<00:00,  1.45it/s]"
     ]
    },
    {
     "name": "stderr",
     "output_type": "stream",
     "text": [
      "2025/07/02 20:58:25 INFO dspy.evaluate.evaluate: Average Metric: 25.5 / 35 (72.9%)\n",
      "2025/07/02 20:58:25 INFO dspy.teleprompt.mipro_optimizer_v2: Score: 72.86 on minibatch of size 35 with parameters ['Predictor 0: Instruction 15', 'Predictor 0: Few-Shot Set 16'].\n",
      "2025/07/02 20:58:25 INFO dspy.teleprompt.mipro_optimizer_v2: Minibatch scores so far: [72.86, 71.9, 77.52, 72.57, 71.62, 74.1, 76.29, 69.43, 72.0, 75.81, 77.24, 76.86, 76.29, 79.24, 73.05, 78.86, 73.05, 79.14, 72.0, 72.86]\n",
      "2025/07/02 20:58:25 INFO dspy.teleprompt.mipro_optimizer_v2: Full eval scores so far: [70.33, 77.07, 80.07, 77.13]\n",
      "2025/07/02 20:58:25 INFO dspy.teleprompt.mipro_optimizer_v2: Best full score so far: 80.07\n",
      "2025/07/02 20:58:25 INFO dspy.teleprompt.mipro_optimizer_v2: ==========================================\n",
      "\n",
      "\n",
      "2025/07/02 20:58:25 INFO dspy.teleprompt.mipro_optimizer_v2: ===== Trial 25 / 37 - Full Evaluation =====\n",
      "2025/07/02 20:58:25 INFO dspy.teleprompt.mipro_optimizer_v2: Doing full eval on next top averaging program (Avg Score: 79.14) from minibatch trials...\n"
     ]
    },
    {
     "name": "stdout",
     "output_type": "stream",
     "text": [
      "\n",
      "Average Metric: 39.20 / 50 (78.4%): 100%|███████████████████████████████████████████████████████████| 50/50 [00:09<00:00,  5.15it/s]"
     ]
    },
    {
     "name": "stderr",
     "output_type": "stream",
     "text": [
      "2025/07/02 20:58:35 INFO dspy.evaluate.evaluate: Average Metric: 39.199999999999996 / 50 (78.4%)\n",
      "2025/07/02 20:58:35 INFO dspy.teleprompt.mipro_optimizer_v2: Full eval scores so far: [70.33, 77.07, 80.07, 77.13, 78.4]\n",
      "2025/07/02 20:58:35 INFO dspy.teleprompt.mipro_optimizer_v2: Best full score so far: 80.07\n",
      "2025/07/02 20:58:35 INFO dspy.teleprompt.mipro_optimizer_v2: =======================\n",
      "2025/07/02 20:58:35 INFO dspy.teleprompt.mipro_optimizer_v2: \n",
      "\n",
      "2025/07/02 20:58:35 INFO dspy.teleprompt.mipro_optimizer_v2: == Trial 26 / 37 - Minibatch ==\n"
     ]
    },
    {
     "name": "stdout",
     "output_type": "stream",
     "text": [
      "\n",
      "Average Metric: 22.73 / 35 (65.0%): 100%|███████████████████████████████████████████████████████████| 35/35 [00:28<00:00,  1.24it/s]"
     ]
    },
    {
     "name": "stderr",
     "output_type": "stream",
     "text": [
      "2025/07/02 20:59:03 INFO dspy.evaluate.evaluate: Average Metric: 22.733333333333334 / 35 (65.0%)\n",
      "2025/07/02 20:59:03 INFO dspy.teleprompt.mipro_optimizer_v2: Score: 64.95 on minibatch of size 35 with parameters ['Predictor 0: Instruction 5', 'Predictor 0: Few-Shot Set 12'].\n",
      "2025/07/02 20:59:03 INFO dspy.teleprompt.mipro_optimizer_v2: Minibatch scores so far: [72.86, 71.9, 77.52, 72.57, 71.62, 74.1, 76.29, 69.43, 72.0, 75.81, 77.24, 76.86, 76.29, 79.24, 73.05, 78.86, 73.05, 79.14, 72.0, 72.86, 64.95]\n",
      "2025/07/02 20:59:03 INFO dspy.teleprompt.mipro_optimizer_v2: Full eval scores so far: [70.33, 77.07, 80.07, 77.13, 78.4]\n",
      "2025/07/02 20:59:03 INFO dspy.teleprompt.mipro_optimizer_v2: Best full score so far: 80.07\n",
      "2025/07/02 20:59:03 INFO dspy.teleprompt.mipro_optimizer_v2: ==========================================\n",
      "\n",
      "\n",
      "2025/07/02 20:59:03 INFO dspy.teleprompt.mipro_optimizer_v2: == Trial 27 / 37 - Minibatch ==\n"
     ]
    },
    {
     "name": "stdout",
     "output_type": "stream",
     "text": [
      "\n",
      "Average Metric: 26.30 / 35 (75.1%): 100%|███████████████████████████████████████████████████████████| 35/35 [00:22<00:00,  1.54it/s]"
     ]
    },
    {
     "name": "stderr",
     "output_type": "stream",
     "text": [
      "2025/07/02 20:59:26 INFO dspy.evaluate.evaluate: Average Metric: 26.3 / 35 (75.1%)\n",
      "2025/07/02 20:59:26 INFO dspy.teleprompt.mipro_optimizer_v2: Score: 75.14 on minibatch of size 35 with parameters ['Predictor 0: Instruction 19', 'Predictor 0: Few-Shot Set 10'].\n",
      "2025/07/02 20:59:26 INFO dspy.teleprompt.mipro_optimizer_v2: Minibatch scores so far: [72.86, 71.9, 77.52, 72.57, 71.62, 74.1, 76.29, 69.43, 72.0, 75.81, 77.24, 76.86, 76.29, 79.24, 73.05, 78.86, 73.05, 79.14, 72.0, 72.86, 64.95, 75.14]\n",
      "2025/07/02 20:59:26 INFO dspy.teleprompt.mipro_optimizer_v2: Full eval scores so far: [70.33, 77.07, 80.07, 77.13, 78.4]\n",
      "2025/07/02 20:59:26 INFO dspy.teleprompt.mipro_optimizer_v2: Best full score so far: 80.07\n",
      "2025/07/02 20:59:26 INFO dspy.teleprompt.mipro_optimizer_v2: ==========================================\n",
      "\n",
      "\n",
      "2025/07/02 20:59:26 INFO dspy.teleprompt.mipro_optimizer_v2: == Trial 28 / 37 - Minibatch ==\n"
     ]
    },
    {
     "name": "stdout",
     "output_type": "stream",
     "text": [
      "\n",
      "Average Metric: 26.43 / 35 (75.5%): 100%|█████████████████████████████████████████████████████████| 35/35 [00:00<00:00, 1232.02it/s]"
     ]
    },
    {
     "name": "stderr",
     "output_type": "stream",
     "text": [
      "2025/07/02 20:59:26 INFO dspy.evaluate.evaluate: Average Metric: 26.433333333333334 / 35 (75.5%)\n",
      "2025/07/02 20:59:26 INFO dspy.teleprompt.mipro_optimizer_v2: Score: 75.52 on minibatch of size 35 with parameters ['Predictor 0: Instruction 4', 'Predictor 0: Few-Shot Set 1'].\n",
      "2025/07/02 20:59:26 INFO dspy.teleprompt.mipro_optimizer_v2: Minibatch scores so far: [72.86, 71.9, 77.52, 72.57, 71.62, 74.1, 76.29, 69.43, 72.0, 75.81, 77.24, 76.86, 76.29, 79.24, 73.05, 78.86, 73.05, 79.14, 72.0, 72.86, 64.95, 75.14, 75.52]\n",
      "2025/07/02 20:59:26 INFO dspy.teleprompt.mipro_optimizer_v2: Full eval scores so far: [70.33, 77.07, 80.07, 77.13, 78.4]\n",
      "2025/07/02 20:59:26 INFO dspy.teleprompt.mipro_optimizer_v2: Best full score so far: 80.07\n",
      "2025/07/02 20:59:26 INFO dspy.teleprompt.mipro_optimizer_v2: ==========================================\n",
      "\n",
      "\n",
      "2025/07/02 20:59:26 INFO dspy.teleprompt.mipro_optimizer_v2: == Trial 29 / 37 - Minibatch ==\n"
     ]
    },
    {
     "name": "stdout",
     "output_type": "stream",
     "text": [
      "\n",
      "Average Metric: 24.60 / 35 (70.3%): 100%|███████████████████████████████████████████████████████████| 35/35 [00:22<00:00,  1.56it/s]"
     ]
    },
    {
     "name": "stderr",
     "output_type": "stream",
     "text": [
      "2025/07/02 20:59:49 INFO dspy.evaluate.evaluate: Average Metric: 24.599999999999998 / 35 (70.3%)\n",
      "2025/07/02 20:59:49 INFO dspy.teleprompt.mipro_optimizer_v2: Score: 70.29 on minibatch of size 35 with parameters ['Predictor 0: Instruction 15', 'Predictor 0: Few-Shot Set 11'].\n",
      "2025/07/02 20:59:49 INFO dspy.teleprompt.mipro_optimizer_v2: Minibatch scores so far: [72.86, 71.9, 77.52, 72.57, 71.62, 74.1, 76.29, 69.43, 72.0, 75.81, 77.24, 76.86, 76.29, 79.24, 73.05, 78.86, 73.05, 79.14, 72.0, 72.86, 64.95, 75.14, 75.52, 70.29]\n",
      "2025/07/02 20:59:49 INFO dspy.teleprompt.mipro_optimizer_v2: Full eval scores so far: [70.33, 77.07, 80.07, 77.13, 78.4]\n",
      "2025/07/02 20:59:49 INFO dspy.teleprompt.mipro_optimizer_v2: Best full score so far: 80.07\n",
      "2025/07/02 20:59:49 INFO dspy.teleprompt.mipro_optimizer_v2: ==========================================\n",
      "\n",
      "\n",
      "2025/07/02 20:59:49 INFO dspy.teleprompt.mipro_optimizer_v2: == Trial 30 / 37 - Minibatch ==\n"
     ]
    },
    {
     "name": "stdout",
     "output_type": "stream",
     "text": [
      "\n",
      "Average Metric: 24.13 / 35 (69.0%): 100%|███████████████████████████████████████████████████████████| 35/35 [00:23<00:00,  1.50it/s]"
     ]
    },
    {
     "name": "stderr",
     "output_type": "stream",
     "text": [
      "2025/07/02 21:00:12 INFO dspy.evaluate.evaluate: Average Metric: 24.133333333333333 / 35 (69.0%)\n",
      "2025/07/02 21:00:12 INFO dspy.teleprompt.mipro_optimizer_v2: Score: 68.95 on minibatch of size 35 with parameters ['Predictor 0: Instruction 1', 'Predictor 0: Few-Shot Set 11'].\n",
      "2025/07/02 21:00:12 INFO dspy.teleprompt.mipro_optimizer_v2: Minibatch scores so far: [72.86, 71.9, 77.52, 72.57, 71.62, 74.1, 76.29, 69.43, 72.0, 75.81, 77.24, 76.86, 76.29, 79.24, 73.05, 78.86, 73.05, 79.14, 72.0, 72.86, 64.95, 75.14, 75.52, 70.29, 68.95]\n",
      "2025/07/02 21:00:12 INFO dspy.teleprompt.mipro_optimizer_v2: Full eval scores so far: [70.33, 77.07, 80.07, 77.13, 78.4]\n",
      "2025/07/02 21:00:12 INFO dspy.teleprompt.mipro_optimizer_v2: Best full score so far: 80.07\n",
      "2025/07/02 21:00:12 INFO dspy.teleprompt.mipro_optimizer_v2: ==========================================\n",
      "\n",
      "\n",
      "2025/07/02 21:00:12 INFO dspy.teleprompt.mipro_optimizer_v2: ===== Trial 31 / 37 - Full Evaluation =====\n",
      "2025/07/02 21:00:12 INFO dspy.teleprompt.mipro_optimizer_v2: Doing full eval on next top averaging program (Avg Score: 78.86) from minibatch trials...\n"
     ]
    },
    {
     "name": "stdout",
     "output_type": "stream",
     "text": [
      "\n",
      "Average Metric: 39.30 / 50 (78.6%): 100%|███████████████████████████████████████████████████████████| 50/50 [00:10<00:00,  4.63it/s]"
     ]
    },
    {
     "name": "stderr",
     "output_type": "stream",
     "text": [
      "2025/07/02 21:00:23 INFO dspy.evaluate.evaluate: Average Metric: 39.3 / 50 (78.6%)\n",
      "2025/07/02 21:00:23 INFO dspy.teleprompt.mipro_optimizer_v2: Full eval scores so far: [70.33, 77.07, 80.07, 77.13, 78.4, 78.6]\n",
      "2025/07/02 21:00:23 INFO dspy.teleprompt.mipro_optimizer_v2: Best full score so far: 80.07\n",
      "2025/07/02 21:00:23 INFO dspy.teleprompt.mipro_optimizer_v2: =======================\n",
      "2025/07/02 21:00:23 INFO dspy.teleprompt.mipro_optimizer_v2: \n",
      "\n",
      "2025/07/02 21:00:23 INFO dspy.teleprompt.mipro_optimizer_v2: == Trial 32 / 37 - Minibatch ==\n"
     ]
    },
    {
     "name": "stdout",
     "output_type": "stream",
     "text": [
      "\n",
      "Average Metric: 26.27 / 35 (75.0%): 100%|███████████████████████████████████████████████████████████| 35/35 [00:23<00:00,  1.49it/s]"
     ]
    },
    {
     "name": "stderr",
     "output_type": "stream",
     "text": [
      "2025/07/02 21:00:46 INFO dspy.evaluate.evaluate: Average Metric: 26.266666666666666 / 35 (75.0%)\n",
      "2025/07/02 21:00:46 INFO dspy.teleprompt.mipro_optimizer_v2: Score: 75.05 on minibatch of size 35 with parameters ['Predictor 0: Instruction 17', 'Predictor 0: Few-Shot Set 8'].\n",
      "2025/07/02 21:00:46 INFO dspy.teleprompt.mipro_optimizer_v2: Minibatch scores so far: [72.86, 71.9, 77.52, 72.57, 71.62, 74.1, 76.29, 69.43, 72.0, 75.81, 77.24, 76.86, 76.29, 79.24, 73.05, 78.86, 73.05, 79.14, 72.0, 72.86, 64.95, 75.14, 75.52, 70.29, 68.95, 75.05]\n",
      "2025/07/02 21:00:46 INFO dspy.teleprompt.mipro_optimizer_v2: Full eval scores so far: [70.33, 77.07, 80.07, 77.13, 78.4, 78.6]\n",
      "2025/07/02 21:00:46 INFO dspy.teleprompt.mipro_optimizer_v2: Best full score so far: 80.07\n",
      "2025/07/02 21:00:46 INFO dspy.teleprompt.mipro_optimizer_v2: ==========================================\n",
      "\n",
      "\n",
      "2025/07/02 21:00:46 INFO dspy.teleprompt.mipro_optimizer_v2: == Trial 33 / 37 - Minibatch ==\n"
     ]
    },
    {
     "name": "stdout",
     "output_type": "stream",
     "text": [
      "\n",
      "Average Metric: 26.20 / 35 (74.9%): 100%|███████████████████████████████████████████████████████████| 35/35 [00:22<00:00,  1.54it/s]"
     ]
    },
    {
     "name": "stderr",
     "output_type": "stream",
     "text": [
      "2025/07/02 21:01:09 INFO dspy.evaluate.evaluate: Average Metric: 26.2 / 35 (74.9%)\n",
      "2025/07/02 21:01:09 INFO dspy.teleprompt.mipro_optimizer_v2: Score: 74.86 on minibatch of size 35 with parameters ['Predictor 0: Instruction 14', 'Predictor 0: Few-Shot Set 1'].\n",
      "2025/07/02 21:01:09 INFO dspy.teleprompt.mipro_optimizer_v2: Minibatch scores so far: [72.86, 71.9, 77.52, 72.57, 71.62, 74.1, 76.29, 69.43, 72.0, 75.81, 77.24, 76.86, 76.29, 79.24, 73.05, 78.86, 73.05, 79.14, 72.0, 72.86, 64.95, 75.14, 75.52, 70.29, 68.95, 75.05, 74.86]\n",
      "2025/07/02 21:01:09 INFO dspy.teleprompt.mipro_optimizer_v2: Full eval scores so far: [70.33, 77.07, 80.07, 77.13, 78.4, 78.6]\n",
      "2025/07/02 21:01:09 INFO dspy.teleprompt.mipro_optimizer_v2: Best full score so far: 80.07\n",
      "2025/07/02 21:01:09 INFO dspy.teleprompt.mipro_optimizer_v2: ==========================================\n",
      "\n",
      "\n",
      "2025/07/02 21:01:09 INFO dspy.teleprompt.mipro_optimizer_v2: == Trial 34 / 37 - Minibatch ==\n"
     ]
    },
    {
     "name": "stdout",
     "output_type": "stream",
     "text": [
      "\n",
      "Average Metric: 25.87 / 35 (73.9%): 100%|███████████████████████████████████████████████████████████| 35/35 [00:25<00:00,  1.39it/s]"
     ]
    },
    {
     "name": "stderr",
     "output_type": "stream",
     "text": [
      "2025/07/02 21:01:34 INFO dspy.evaluate.evaluate: Average Metric: 25.866666666666667 / 35 (73.9%)\n",
      "2025/07/02 21:01:34 INFO dspy.teleprompt.mipro_optimizer_v2: Score: 73.9 on minibatch of size 35 with parameters ['Predictor 0: Instruction 11', 'Predictor 0: Few-Shot Set 1'].\n",
      "2025/07/02 21:01:34 INFO dspy.teleprompt.mipro_optimizer_v2: Minibatch scores so far: [72.86, 71.9, 77.52, 72.57, 71.62, 74.1, 76.29, 69.43, 72.0, 75.81, 77.24, 76.86, 76.29, 79.24, 73.05, 78.86, 73.05, 79.14, 72.0, 72.86, 64.95, 75.14, 75.52, 70.29, 68.95, 75.05, 74.86, 73.9]\n",
      "2025/07/02 21:01:34 INFO dspy.teleprompt.mipro_optimizer_v2: Full eval scores so far: [70.33, 77.07, 80.07, 77.13, 78.4, 78.6]\n",
      "2025/07/02 21:01:34 INFO dspy.teleprompt.mipro_optimizer_v2: Best full score so far: 80.07\n",
      "2025/07/02 21:01:34 INFO dspy.teleprompt.mipro_optimizer_v2: ==========================================\n",
      "\n",
      "\n",
      "2025/07/02 21:01:34 INFO dspy.teleprompt.mipro_optimizer_v2: == Trial 35 / 37 - Minibatch ==\n"
     ]
    },
    {
     "name": "stdout",
     "output_type": "stream",
     "text": [
      "\n",
      "Average Metric: 27.07 / 35 (77.3%): 100%|█████████████████████████████████████████████████████████| 35/35 [00:00<00:00, 1187.20it/s]"
     ]
    },
    {
     "name": "stderr",
     "output_type": "stream",
     "text": [
      "2025/07/02 21:01:34 INFO dspy.evaluate.evaluate: Average Metric: 27.066666666666666 / 35 (77.3%)\n",
      "2025/07/02 21:01:34 INFO dspy.teleprompt.mipro_optimizer_v2: Score: 77.33 on minibatch of size 35 with parameters ['Predictor 0: Instruction 17', 'Predictor 0: Few-Shot Set 1'].\n",
      "2025/07/02 21:01:34 INFO dspy.teleprompt.mipro_optimizer_v2: Minibatch scores so far: [72.86, 71.9, 77.52, 72.57, 71.62, 74.1, 76.29, 69.43, 72.0, 75.81, 77.24, 76.86, 76.29, 79.24, 73.05, 78.86, 73.05, 79.14, 72.0, 72.86, 64.95, 75.14, 75.52, 70.29, 68.95, 75.05, 74.86, 73.9, 77.33]\n",
      "2025/07/02 21:01:34 INFO dspy.teleprompt.mipro_optimizer_v2: Full eval scores so far: [70.33, 77.07, 80.07, 77.13, 78.4, 78.6]\n",
      "2025/07/02 21:01:34 INFO dspy.teleprompt.mipro_optimizer_v2: Best full score so far: 80.07\n",
      "2025/07/02 21:01:34 INFO dspy.teleprompt.mipro_optimizer_v2: ==========================================\n",
      "\n",
      "\n",
      "2025/07/02 21:01:34 INFO dspy.teleprompt.mipro_optimizer_v2: == Trial 36 / 37 - Minibatch ==\n"
     ]
    },
    {
     "name": "stdout",
     "output_type": "stream",
     "text": [
      "\n",
      "Average Metric: 28.23 / 35 (80.7%): 100%|███████████████████████████████████████████████████████████| 35/35 [00:22<00:00,  1.53it/s]"
     ]
    },
    {
     "name": "stderr",
     "output_type": "stream",
     "text": [
      "2025/07/02 21:01:57 INFO dspy.evaluate.evaluate: Average Metric: 28.233333333333334 / 35 (80.7%)\n",
      "2025/07/02 21:01:57 INFO dspy.teleprompt.mipro_optimizer_v2: Score: 80.67 on minibatch of size 35 with parameters ['Predictor 0: Instruction 12', 'Predictor 0: Few-Shot Set 14'].\n",
      "2025/07/02 21:01:57 INFO dspy.teleprompt.mipro_optimizer_v2: Minibatch scores so far: [72.86, 71.9, 77.52, 72.57, 71.62, 74.1, 76.29, 69.43, 72.0, 75.81, 77.24, 76.86, 76.29, 79.24, 73.05, 78.86, 73.05, 79.14, 72.0, 72.86, 64.95, 75.14, 75.52, 70.29, 68.95, 75.05, 74.86, 73.9, 77.33, 80.67]\n",
      "2025/07/02 21:01:57 INFO dspy.teleprompt.mipro_optimizer_v2: Full eval scores so far: [70.33, 77.07, 80.07, 77.13, 78.4, 78.6]\n",
      "2025/07/02 21:01:57 INFO dspy.teleprompt.mipro_optimizer_v2: Best full score so far: 80.07\n",
      "2025/07/02 21:01:57 INFO dspy.teleprompt.mipro_optimizer_v2: ==========================================\n",
      "\n",
      "\n",
      "2025/07/02 21:01:57 INFO dspy.teleprompt.mipro_optimizer_v2: ===== Trial 37 / 37 - Full Evaluation =====\n",
      "2025/07/02 21:01:57 INFO dspy.teleprompt.mipro_optimizer_v2: Doing full eval on next top averaging program (Avg Score: 80.67) from minibatch trials...\n"
     ]
    },
    {
     "name": "stdout",
     "output_type": "stream",
     "text": [
      "\n",
      "Average Metric: 38.43 / 50 (76.9%): 100%|███████████████████████████████████████████████████████████| 50/50 [00:09<00:00,  5.19it/s]"
     ]
    },
    {
     "name": "stderr",
     "output_type": "stream",
     "text": [
      "2025/07/02 21:02:07 INFO dspy.evaluate.evaluate: Average Metric: 38.43333333333333 / 50 (76.9%)\n",
      "2025/07/02 21:02:07 INFO dspy.teleprompt.mipro_optimizer_v2: Full eval scores so far: [70.33, 77.07, 80.07, 77.13, 78.4, 78.6, 76.87]\n",
      "2025/07/02 21:02:07 INFO dspy.teleprompt.mipro_optimizer_v2: Best full score so far: 80.07\n",
      "2025/07/02 21:02:07 INFO dspy.teleprompt.mipro_optimizer_v2: =======================\n",
      "2025/07/02 21:02:07 INFO dspy.teleprompt.mipro_optimizer_v2: \n",
      "\n",
      "2025/07/02 21:02:07 INFO dspy.teleprompt.mipro_optimizer_v2: Returning best identified program with score 80.07!\n"
     ]
    },
    {
     "name": "stdout",
     "output_type": "stream",
     "text": [
      "\n"
     ]
    }
   ],
   "source": [
    "from amzn_nova_prompt_optimizer.core.optimizers import NovaPromptOptimizer\n",
    "\n",
    "nova_prompt_optimizer = NovaPromptOptimizer(prompt_adapter=prompt_adapter, inference_adapter=inference_adapter, dataset_adapter=train_set, metric_adapter=nova_metric_adapter)\n",
    "\n",
    "optimized_prompt_adapter = nova_prompt_optimizer.optimize(mode=\"pro\")"
   ]
  },
  {
   "cell_type": "code",
   "execution_count": 8,
   "id": "5f1de0fc",
   "metadata": {},
   "outputs": [
    {
     "name": "stderr",
     "output_type": "stream",
     "text": [
      "2025/07/02 21:02:07 INFO amzn_nova_prompt_optimizer.core.input_adapters.prompt_adapter: \n",
      "Standardized Prompt:\n"
     ]
    },
    {
     "name": "stdout",
     "output_type": "stream",
     "text": [
      "{\n",
      "  \"user_prompt\": {\n",
      "    \"variables\": [\n",
      "      \"input\"\n",
      "    ],\n",
      "    \"template\": \"Extract and return a json with the following keys and values from the input provided: [{{ input }}]\\n- \\\"urgency\\\" as one of `high`, `medium`, `low`\\n- \\\"sentiment\\\" as one of `negative`, `neutral`, `positive`\\n- \\\"categories\\\" as a dictionary with categories as keys and boolean values indicating if the category matches the input. Categories are: `emergency_repair_services`, `routine_maintenance_requests`, `quality_and_safety_concerns`, `specialized_cleaning_services`, `general_inquiries`, `sustainability_and_environmental_practices`, `training_and_support_requests`, `cleaning_services_scheduling`, `customer_feedback_and_complaints`, `facility_management_issues`\",\n",
      "    \"metadata\": {\n",
      "      \"format\": \"text\"\n",
      "    }\n",
      "  },\n",
      "  \"system_prompt\": {\n",
      "    \"variables\": [],\n",
      "    \"template\": \"Analyze the input text and classify it into a JSON object with \\\"urgency\\\", \\\"sentiment\\\", and \\\"categories\\\" keys. Ensure all categories are covered with boolean values, and the output is a valid JSON string without extra formatting.\",\n",
      "    \"metadata\": {\n",
      "      \"format\": \"text\"\n",
      "    }\n",
      "  },\n",
      "  \"few_shot\": {\n",
      "    \"examples\": [\n",
      "      {\n",
      "        \"input\": \"Extract and return a json with the following keys and values from the input provided: [Subject: Request for Post-Renovation Cleaning Services\\n\\nDear ProCare Support Team,\\n\\nI hope this message finds you well. My name is [Sender], and I have been utilizing ProCare Facility Solutions for the maintenance and management of my commercial property for the past few years. Your services have always been reliable and efficient, which is why I am reaching out to you today.\\n\\nI am writing to request assistance with a specialized cleaning service for our office building. We have recently undergone some renovations, and there is a significant amount of dust and debris that needs to be addressed. Additionally, the carpets and windows require a thorough cleaning to restore them to their original condition.\\n\\nI have already scheduled a routine cleaning, but I believe this situation requires more specialized attention. Given the nature of the work needed, I would appreciate it if you could arrange for a team that specializes in deep cleaning and post-renovation cleanup.\\n\\nCould you please provide me with the available dates and any additional information required to proceed with this request? Your prompt assistance in this matter would be greatly appreciated, as we aim to have the office fully operational and presentable as soon as possible.\\n\\nThank you for your attention to this matter. I look forward to your response.\\n\\nBest regards,\\n\\n[Sender]]\\n- \\\"urgency\\\" as one of `high`, `medium`, `low`\\n- \\\"sentiment\\\" as one of `negative`, `neutral`, `positive`\\n- \\\"categories\\\" as a dictionary with categories as keys and boolean values indicating if the category matches the input. Categories are: `emergency_repair_services`, `routine_maintenance_requests`, `quality_and_safety_concerns`, `specialized_cleaning_services`, `general_inquiries`, `sustainability_and_environmental_practices`, `training_and_support_requests`, `cleaning_services_scheduling`, `customer_feedback_and_complaints`, `facility_management_issues`\",\n",
      "        \"output\": \"{\\\"categories\\\": {\\\"routine_maintenance_requests\\\": false, \\\"customer_feedback_and_complaints\\\": false, \\\"training_and_support_requests\\\": false, \\\"quality_and_safety_concerns\\\": false, \\\"sustainability_and_environmental_practices\\\": false, \\\"cleaning_services_scheduling\\\": true, \\\"specialized_cleaning_services\\\": true, \\\"emergency_repair_services\\\": false, \\\"facility_management_issues\\\": false, \\\"general_inquiries\\\": false}, \\\"sentiment\\\": \\\"neutral\\\", \\\"urgency\\\": \\\"medium\\\"}\"\n",
      "      },\n",
      "      {\n",
      "        \"input\": \"Extract and return a json with the following keys and values from the input provided: [Subject: Urgent HVAC System Repair Needed\\n\\nDear ProCare Support Team,\\n\\nI hope this message finds you well. My name is [Sender], and I am the curator at [Museum Name]. We have been utilizing ProCare Facility Solutions for our maintenance needs for the past year, and I have always appreciated the professionalism and quality of your services.\\n\\nI am writing to inform you of an urgent issue we are currently facing with our HVAC system. Over the past few days, we have noticed irregularities in the temperature control within our exhibit halls. This is particularly concerning as we have several sensitive classical art pieces that require a stable climate to ensure their preservation.\\n\\nWe have attempted to adjust the settings manually and have conducted a basic inspection of the system, but the problem persists. Given the importance of maintaining an optimal environment for our collections, I would appreciate it if you could send a technician to address this issue immediately.\\n\\nThank you for your prompt attention to this matter. I look forward to your swift response and resolution.\\n\\nBest regards,\\n\\n[Sender]  \\n[Museum Name]  \\n[Contact Information]]\\n- \\\"urgency\\\" as one of `high`, `medium`, `low`\\n- \\\"sentiment\\\" as one of `negative`, `neutral`, `positive`\\n- \\\"categories\\\" as a dictionary with categories as keys and boolean values indicating if the category matches the input. Categories are: `emergency_repair_services`, `routine_maintenance_requests`, `quality_and_safety_concerns`, `specialized_cleaning_services`, `general_inquiries`, `sustainability_and_environmental_practices`, `training_and_support_requests`, `cleaning_services_scheduling`, `customer_feedback_and_complaints`, `facility_management_issues`\",\n",
      "        \"output\": \"{\\\"categories\\\": {\\\"routine_maintenance_requests\\\": false, \\\"customer_feedback_and_complaints\\\": false, \\\"training_and_support_requests\\\": false, \\\"quality_and_safety_concerns\\\": true, \\\"sustainability_and_environmental_practices\\\": false, \\\"cleaning_services_scheduling\\\": false, \\\"specialized_cleaning_services\\\": false, \\\"emergency_repair_services\\\": true, \\\"facility_management_issues\\\": false, \\\"general_inquiries\\\": false}, \\\"sentiment\\\": \\\"neutral\\\", \\\"urgency\\\": \\\"high\\\"}\"\n",
      "      },\n",
      "      {\n",
      "        \"input\": \"Extract and return a json with the following keys and values from the input provided: [Subject: Routine Maintenance Request for Theater Facility\\n\\nDear ProCare Support Team,\\n\\nI hope this message finds you well. My name is [Sender], and I am a theater producer who has been working closely with your team to ensure our facility remains in top condition. I have always admired the innovative methods your team employs, which have significantly contributed to the smooth operation of our workshops and classes.\\n\\nI am writing to request routine maintenance for our theater facility. Specifically, we have noticed that the HVAC system is not performing optimally, and there are minor plumbing issues in the restrooms that need attention. These issues are not urgent but do require timely intervention to prevent any disruption to our scheduled activities.\\n\\nWe have not taken any steps to address these issues internally, as we prefer to rely on your expertise to ensure everything is handled correctly and efficiently.\\n\\nCould you please arrange for a maintenance visit at your earliest convenience? We would appreciate it if the visit could be scheduled within the next week to ensure everything is in order before our next major event.\\n\\nThank you for your attention to this matter. We look forward to your prompt response and continued excellent service.\\n\\nBest regards,\\n\\n[Sender]]\\n- \\\"urgency\\\" as one of `high`, `medium`, `low`\\n- \\\"sentiment\\\" as one of `negative`, `neutral`, `positive`\\n- \\\"categories\\\" as a dictionary with categories as keys and boolean values indicating if the category matches the input. Categories are: `emergency_repair_services`, `routine_maintenance_requests`, `quality_and_safety_concerns`, `specialized_cleaning_services`, `general_inquiries`, `sustainability_and_environmental_practices`, `training_and_support_requests`, `cleaning_services_scheduling`, `customer_feedback_and_complaints`, `facility_management_issues`\",\n",
      "        \"output\": \"{\\\"categories\\\": {\\\"routine_maintenance_requests\\\": true, \\\"customer_feedback_and_complaints\\\": false, \\\"training_and_support_requests\\\": false, \\\"quality_and_safety_concerns\\\": false, \\\"sustainability_and_environmental_practices\\\": false, \\\"cleaning_services_scheduling\\\": false, \\\"specialized_cleaning_services\\\": false, \\\"emergency_repair_services\\\": false, \\\"facility_management_issues\\\": false, \\\"general_inquiries\\\": false}, \\\"sentiment\\\": \\\"positive\\\", \\\"urgency\\\": \\\"medium\\\"}\"\n",
      "      },\n",
      "      {\n",
      "        \"input\": \"Extract and return a json with the following keys and values from the input provided: [Subject: Scheduling Cleaning Services for Upcoming Event\\n\\nHi ProCare Support Team,\\n\\nI hope this message finds you well. My name is [Sender], and I\\u2019ve been a loyal customer of ProCare Facility Solutions for the past year. I manage the performance analysis for the New York Red Bulls, and I must say, your services have been instrumental in maintaining our office environment, allowing us to focus on our work without any distractions.\\n\\nI\\u2019m reaching out to schedule a cleaning service for our office space. We have an important event coming up next month, and I want to ensure that everything is in pristine condition for our guests. Given the nature of our work, a clean and organized environment is crucial for our productivity and overall morale.\\n\\nI haven\\u2019t taken any steps yet to schedule this service, as I wanted to get in touch with your team directly to ensure we get the best possible arrangement. Ideally, we would need a thorough cleaning a few days before the event, including window washing and carpet maintenance.\\n\\nCould you please assist me in setting up a suitable cleaning schedule? I\\u2019m confident that your team will handle this with the same excellence and attention to detail that we\\u2019ve come to expect from ProCare.\\n\\nThank you so much for your help. Looking forward to your response.\\n\\nBest regards,\\n[Sender]]\\n- \\\"urgency\\\" as one of `high`, `medium`, `low`\\n- \\\"sentiment\\\" as one of `negative`, `neutral`, `positive`\\n- \\\"categories\\\" as a dictionary with categories as keys and boolean values indicating if the category matches the input. Categories are: `emergency_repair_services`, `routine_maintenance_requests`, `quality_and_safety_concerns`, `specialized_cleaning_services`, `general_inquiries`, `sustainability_and_environmental_practices`, `training_and_support_requests`, `cleaning_services_scheduling`, `customer_feedback_and_complaints`, `facility_management_issues`\",\n",
      "        \"output\": \"{\\\"categories\\\": {\\\"routine_maintenance_requests\\\": false, \\\"customer_feedback_and_complaints\\\": false, \\\"training_and_support_requests\\\": false, \\\"quality_and_safety_concerns\\\": false, \\\"sustainability_and_environmental_practices\\\": false, \\\"cleaning_services_scheduling\\\": true, \\\"specialized_cleaning_services\\\": true, \\\"emergency_repair_services\\\": false, \\\"facility_management_issues\\\": false, \\\"general_inquiries\\\": false}, \\\"sentiment\\\": \\\"positive\\\", \\\"urgency\\\": \\\"medium\\\"}\"\n",
      "      }\n",
      "    ],\n",
      "    \"format\": \"converse\"\n",
      "  }\n",
      "}\n"
     ]
    }
   ],
   "source": [
    "optimized_prompt_adapter.show()"
   ]
  },
  {
   "cell_type": "markdown",
   "id": "4a051afb",
   "metadata": {},
   "source": [
    "### Optimized System Prompt"
   ]
  },
  {
   "cell_type": "code",
   "execution_count": 9,
   "id": "4b4b52d7",
   "metadata": {},
   "outputs": [
    {
     "name": "stdout",
     "output_type": "stream",
     "text": [
      "Analyze the input text and classify it into a JSON object with \"urgency\", \"sentiment\", and \"categories\" keys. Ensure all categories are covered with boolean values, and the output is a valid JSON string without extra formatting.\n"
     ]
    }
   ],
   "source": [
    "print(optimized_prompt_adapter.system_prompt)"
   ]
  },
  {
   "cell_type": "markdown",
   "id": "90efbb24",
   "metadata": {},
   "source": [
    "### Optimized User Prompt"
   ]
  },
  {
   "cell_type": "code",
   "execution_count": 10,
   "id": "9795751a",
   "metadata": {},
   "outputs": [
    {
     "name": "stdout",
     "output_type": "stream",
     "text": [
      "Extract and return a json with the following keys and values from the input provided: [{{ input }}]\n",
      "- \"urgency\" as one of `high`, `medium`, `low`\n",
      "- \"sentiment\" as one of `negative`, `neutral`, `positive`\n",
      "- \"categories\" as a dictionary with categories as keys and boolean values indicating if the category matches the input. Categories are: `emergency_repair_services`, `routine_maintenance_requests`, `quality_and_safety_concerns`, `specialized_cleaning_services`, `general_inquiries`, `sustainability_and_environmental_practices`, `training_and_support_requests`, `cleaning_services_scheduling`, `customer_feedback_and_complaints`, `facility_management_issues`\n"
     ]
    }
   ],
   "source": [
    "print(optimized_prompt_adapter.user_prompt)"
   ]
  },
  {
   "cell_type": "markdown",
   "id": "32cb01f0-7d07-4bd2-ab0f-4dced7d55da7",
   "metadata": {},
   "source": [
    "### Few Shot Examples"
   ]
  },
  {
   "cell_type": "code",
   "execution_count": 11,
   "id": "4dfa1fdb-7273-4c76-a0ad-e8a0692bfbec",
   "metadata": {},
   "outputs": [
    {
     "name": "stdout",
     "output_type": "stream",
     "text": [
      "Number of Few-Shot Examples = 4\n"
     ]
    }
   ],
   "source": [
    "print(f\"Number of Few-Shot Examples = {len(optimized_prompt_adapter.few_shot_examples)}\")"
   ]
  },
  {
   "cell_type": "code",
   "execution_count": 12,
   "id": "b25e3b16-0f49-41cd-a68b-d6ccbc51b656",
   "metadata": {},
   "outputs": [
    {
     "name": "stdout",
     "output_type": "stream",
     "text": [
      "{'input': 'Extract and return a json with the following keys and values from the input provided: [Subject: Request for Post-Renovation Cleaning Services\\n\\nDear ProCare Support Team,\\n\\nI hope this message finds you well. My name is [Sender], and I have been utilizing ProCare Facility Solutions for the maintenance and management of my commercial property for the past few years. Your services have always been reliable and efficient, which is why I am reaching out to you today.\\n\\nI am writing to request assistance with a specialized cleaning service for our office building. We have recently undergone some renovations, and there is a significant amount of dust and debris that needs to be addressed. Additionally, the carpets and windows require a thorough cleaning to restore them to their original condition.\\n\\nI have already scheduled a routine cleaning, but I believe this situation requires more specialized attention. Given the nature of the work needed, I would appreciate it if you could arrange for a team that specializes in deep cleaning and post-renovation cleanup.\\n\\nCould you please provide me with the available dates and any additional information required to proceed with this request? Your prompt assistance in this matter would be greatly appreciated, as we aim to have the office fully operational and presentable as soon as possible.\\n\\nThank you for your attention to this matter. I look forward to your response.\\n\\nBest regards,\\n\\n[Sender]]\\n- \"urgency\" as one of `high`, `medium`, `low`\\n- \"sentiment\" as one of `negative`, `neutral`, `positive`\\n- \"categories\" as a dictionary with categories as keys and boolean values indicating if the category matches the input. Categories are: `emergency_repair_services`, `routine_maintenance_requests`, `quality_and_safety_concerns`, `specialized_cleaning_services`, `general_inquiries`, `sustainability_and_environmental_practices`, `training_and_support_requests`, `cleaning_services_scheduling`, `customer_feedback_and_complaints`, `facility_management_issues`', 'output': '{\"categories\": {\"routine_maintenance_requests\": false, \"customer_feedback_and_complaints\": false, \"training_and_support_requests\": false, \"quality_and_safety_concerns\": false, \"sustainability_and_environmental_practices\": false, \"cleaning_services_scheduling\": true, \"specialized_cleaning_services\": true, \"emergency_repair_services\": false, \"facility_management_issues\": false, \"general_inquiries\": false}, \"sentiment\": \"neutral\", \"urgency\": \"medium\"}'}\n"
     ]
    }
   ],
   "source": [
    "# Print only the first example\n",
    "print(optimized_prompt_adapter.few_shot_examples[0])"
   ]
  },
  {
   "cell_type": "markdown",
   "id": "0d30a347",
   "metadata": {},
   "source": [
    "### Evaluator\n",
    "\n",
    "Now we evaluate the Nova Prompt Optimizer Optimized prompt"
   ]
  },
  {
   "cell_type": "code",
   "execution_count": 13,
   "id": "e136ccc2",
   "metadata": {},
   "outputs": [],
   "source": [
    "from amzn_nova_prompt_optimizer.core.evaluation import Evaluator\n",
    "\n",
    "evaluator = Evaluator(optimized_prompt_adapter, test_set, metric_adapter, inference_adapter)"
   ]
  },
  {
   "cell_type": "code",
   "execution_count": 14,
   "id": "e43b528d",
   "metadata": {},
   "outputs": [
    {
     "name": "stderr",
     "output_type": "stream",
     "text": [
      "2025/07/02 21:02:07 INFO amzn_nova_prompt_optimizer.core.evaluation: Cache miss - Running new inference on Dataset\n",
      "Running inference: 100%|██████████████████████████████████████████████████████████████████████████| 100/100 [00:44<00:00,  2.27it/s]\n",
      "2025/07/02 21:02:51 INFO amzn_nova_prompt_optimizer.core.evaluation: Running Batch Evaluation on Dataset, using `batch_apply` metric\n",
      "2025/07/02 21:02:51 INFO amzn_nova_prompt_optimizer.core.evaluation: Using cached inference results\n",
      "2025/07/02 21:02:51 INFO amzn_nova_prompt_optimizer.core.evaluation: Running Evaluation on Dataset, using `apply` metric\n"
     ]
    },
    {
     "name": "stdout",
     "output_type": "stream",
     "text": [
      "Nova Prompt Optimization = {'is_valid_json': 1.0, 'correct_categories': 0.9309999999999999, 'correct_sentiment': 0.66, 'correct_urgency': 0.84, 'total': 0.8103333333333333}\n"
     ]
    }
   ],
   "source": [
    "evaluation_score = evaluator.aggregate_score(model_id=NOVA_MODEL_ID)\n",
    "print(f\"Nova Prompt Optimization = {evaluation_score}\")"
   ]
  },
  {
   "cell_type": "code",
   "execution_count": 15,
   "id": "98a74bbb-1744-4daa-a17e-89ede77fee6f",
   "metadata": {},
   "outputs": [],
   "source": [
    "optimized_prompt_adapter.save(\"optimized_prompt/\")"
   ]
  }
 ],
 "metadata": {
  "kernelspec": {
   "display_name": "Python 3.12 (.venv)",
   "language": "python",
   "name": "python312venv"
  },
  "language_info": {
   "codemirror_mode": {
    "name": "ipython",
    "version": 3
   },
   "file_extension": ".py",
   "mimetype": "text/x-python",
   "name": "python",
   "nbconvert_exporter": "python",
   "pygments_lexer": "ipython3",
   "version": "3.12.11"
  }
 },
 "nbformat": 4,
 "nbformat_minor": 5
}
